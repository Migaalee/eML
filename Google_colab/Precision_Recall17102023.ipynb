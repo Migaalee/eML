{
  "nbformat": 4,
  "nbformat_minor": 0,
  "metadata": {
    "colab": {
      "provenance": [],
      "collapsed_sections": [
        "mEl0ovff2kYn",
        "5Hpc5-c3fo71",
        "J9ty6MNGtW4I"
      ]
    },
    "kernelspec": {
      "name": "python3",
      "display_name": "Python 3"
    },
    "language_info": {
      "name": "python"
    },
    "gpuClass": "standard"
  },
  "cells": [
    {
      "cell_type": "markdown",
      "metadata": {
        "id": "a4UX_KoNojez"
      },
      "source": [
        "# 1. Project description\n",
        "\n",
        "## Explanation of the dataset.\n",
        "\n"
      ]
    },
    {
      "cell_type": "markdown",
      "source": [
        "### Install necessary software"
      ],
      "metadata": {
        "id": "mEl0ovff2kYn"
      }
    },
    {
      "cell_type": "code",
      "source": [
        "!pip install pysam pandas seaborn graphkb"
      ],
      "metadata": {
        "colab": {
          "base_uri": "https://localhost:8080/"
        },
        "id": "9SSyTh0_2twv",
        "outputId": "4ac935ea-ecb7-47e5-cf8c-52d8728ed517"
      },
      "execution_count": 1,
      "outputs": [
        {
          "output_type": "stream",
          "name": "stdout",
          "text": [
            "Collecting pysam\n",
            "  Downloading pysam-0.22.0-cp310-cp310-manylinux_2_28_x86_64.whl (21.9 MB)\n",
            "\u001b[2K     \u001b[90m━━━━━━━━━━━━━━━━━━━━━━━━━━━━━━━━━━━━━━━━\u001b[0m \u001b[32m21.9/21.9 MB\u001b[0m \u001b[31m17.9 MB/s\u001b[0m eta \u001b[36m0:00:00\u001b[0m\n",
            "\u001b[?25hRequirement already satisfied: pandas in /usr/local/lib/python3.10/dist-packages (1.5.3)\n",
            "Requirement already satisfied: seaborn in /usr/local/lib/python3.10/dist-packages (0.12.2)\n",
            "Collecting graphkb\n",
            "  Downloading graphkb-1.12.0-py3-none-any.whl (47 kB)\n",
            "\u001b[2K     \u001b[90m━━━━━━━━━━━━━━━━━━━━━━━━━━━━━━━━━━━━━━━━\u001b[0m \u001b[32m47.6/47.6 kB\u001b[0m \u001b[31m2.2 MB/s\u001b[0m eta \u001b[36m0:00:00\u001b[0m\n",
            "\u001b[?25hRequirement already satisfied: python-dateutil>=2.8.1 in /usr/local/lib/python3.10/dist-packages (from pandas) (2.8.2)\n",
            "Requirement already satisfied: pytz>=2020.1 in /usr/local/lib/python3.10/dist-packages (from pandas) (2023.3.post1)\n",
            "Requirement already satisfied: numpy>=1.21.0 in /usr/local/lib/python3.10/dist-packages (from pandas) (1.23.5)\n",
            "Requirement already satisfied: matplotlib!=3.6.1,>=3.1 in /usr/local/lib/python3.10/dist-packages (from seaborn) (3.7.1)\n",
            "Collecting requests<2.29.0 (from graphkb)\n",
            "  Downloading requests-2.28.2-py3-none-any.whl (62 kB)\n",
            "\u001b[2K     \u001b[90m━━━━━━━━━━━━━━━━━━━━━━━━━━━━━━━━━━━━━━━━\u001b[0m \u001b[32m62.8/62.8 kB\u001b[0m \u001b[31m6.2 MB/s\u001b[0m eta \u001b[36m0:00:00\u001b[0m\n",
            "\u001b[?25hCollecting typing-extensions<4.4,>=3.7.4.2 (from graphkb)\n",
            "  Downloading typing_extensions-4.3.0-py3-none-any.whl (25 kB)\n",
            "Requirement already satisfied: contourpy>=1.0.1 in /usr/local/lib/python3.10/dist-packages (from matplotlib!=3.6.1,>=3.1->seaborn) (1.1.1)\n",
            "Requirement already satisfied: cycler>=0.10 in /usr/local/lib/python3.10/dist-packages (from matplotlib!=3.6.1,>=3.1->seaborn) (0.12.1)\n",
            "Requirement already satisfied: fonttools>=4.22.0 in /usr/local/lib/python3.10/dist-packages (from matplotlib!=3.6.1,>=3.1->seaborn) (4.43.1)\n",
            "Requirement already satisfied: kiwisolver>=1.0.1 in /usr/local/lib/python3.10/dist-packages (from matplotlib!=3.6.1,>=3.1->seaborn) (1.4.5)\n",
            "Requirement already satisfied: packaging>=20.0 in /usr/local/lib/python3.10/dist-packages (from matplotlib!=3.6.1,>=3.1->seaborn) (23.2)\n",
            "Requirement already satisfied: pillow>=6.2.0 in /usr/local/lib/python3.10/dist-packages (from matplotlib!=3.6.1,>=3.1->seaborn) (9.4.0)\n",
            "Requirement already satisfied: pyparsing>=2.3.1 in /usr/local/lib/python3.10/dist-packages (from matplotlib!=3.6.1,>=3.1->seaborn) (3.1.1)\n",
            "Requirement already satisfied: six>=1.5 in /usr/local/lib/python3.10/dist-packages (from python-dateutil>=2.8.1->pandas) (1.16.0)\n",
            "Requirement already satisfied: charset-normalizer<4,>=2 in /usr/local/lib/python3.10/dist-packages (from requests<2.29.0->graphkb) (3.3.0)\n",
            "Requirement already satisfied: idna<4,>=2.5 in /usr/local/lib/python3.10/dist-packages (from requests<2.29.0->graphkb) (3.4)\n",
            "Collecting urllib3<1.27,>=1.21.1 (from requests<2.29.0->graphkb)\n",
            "  Downloading urllib3-1.26.18-py2.py3-none-any.whl (143 kB)\n",
            "\u001b[2K     \u001b[90m━━━━━━━━━━━━━━━━━━━━━━━━━━━━━━━━━━━━━━━━\u001b[0m \u001b[32m143.8/143.8 kB\u001b[0m \u001b[31m7.9 MB/s\u001b[0m eta \u001b[36m0:00:00\u001b[0m\n",
            "\u001b[?25hRequirement already satisfied: certifi>=2017.4.17 in /usr/local/lib/python3.10/dist-packages (from requests<2.29.0->graphkb) (2023.7.22)\n",
            "Installing collected packages: urllib3, typing-extensions, pysam, requests, graphkb\n",
            "  Attempting uninstall: urllib3\n",
            "    Found existing installation: urllib3 2.0.6\n",
            "    Uninstalling urllib3-2.0.6:\n",
            "      Successfully uninstalled urllib3-2.0.6\n",
            "  Attempting uninstall: typing-extensions\n",
            "    Found existing installation: typing_extensions 4.5.0\n",
            "    Uninstalling typing_extensions-4.5.0:\n",
            "      Successfully uninstalled typing_extensions-4.5.0\n",
            "  Attempting uninstall: requests\n",
            "    Found existing installation: requests 2.31.0\n",
            "    Uninstalling requests-2.31.0:\n",
            "      Successfully uninstalled requests-2.31.0\n",
            "\u001b[31mERROR: pip's dependency resolver does not currently take into account all the packages that are installed. This behaviour is the source of the following dependency conflicts.\n",
            "google-colab 1.0.0 requires requests==2.31.0, but you have requests 2.28.2 which is incompatible.\n",
            "yfinance 0.2.31 requires requests>=2.31, but you have requests 2.28.2 which is incompatible.\u001b[0m\u001b[31m\n",
            "\u001b[0mSuccessfully installed graphkb-1.12.0 pysam-0.22.0 requests-2.28.2 typing-extensions-4.3.0 urllib3-1.26.18\n"
          ]
        }
      ]
    },
    {
      "cell_type": "code",
      "source": [
        "pip install aplanat"
      ],
      "metadata": {
        "colab": {
          "base_uri": "https://localhost:8080/"
        },
        "id": "xrXnx5Ik8-ci",
        "outputId": "0d669d9e-ad3a-4b7c-d1c1-5a0051df1a9e"
      },
      "execution_count": 2,
      "outputs": [
        {
          "output_type": "stream",
          "name": "stdout",
          "text": [
            "Collecting aplanat\n",
            "  Downloading aplanat-0.6.16.tar.gz (297 kB)\n",
            "\u001b[?25l     \u001b[90m━━━━━━━━━━━━━━━━━━━━━━━━━━━━━━━━━━━━━━━━\u001b[0m \u001b[32m0.0/297.5 kB\u001b[0m \u001b[31m?\u001b[0m eta \u001b[36m-:--:--\u001b[0m\r\u001b[2K     \u001b[91m━━━━━━━━━━━━━━━━━━━\u001b[0m\u001b[90m╺\u001b[0m\u001b[90m━━━━━━━━━━━━━━━━━━━━\u001b[0m \u001b[32m143.4/297.5 kB\u001b[0m \u001b[31m4.2 MB/s\u001b[0m eta \u001b[36m0:00:01\u001b[0m\r\u001b[2K     \u001b[90m━━━━━━━━━━━━━━━━━━━━━━━━━━━━━━━━━━━━━━━━\u001b[0m \u001b[32m297.5/297.5 kB\u001b[0m \u001b[31m5.6 MB/s\u001b[0m eta \u001b[36m0:00:00\u001b[0m\n",
            "\u001b[?25h  Preparing metadata (setup.py) ... \u001b[?25l\u001b[?25hdone\n",
            "Collecting bokeh<3.0.0 (from aplanat)\n",
            "  Downloading bokeh-2.4.3-py3-none-any.whl (18.5 MB)\n",
            "\u001b[2K     \u001b[90m━━━━━━━━━━━━━━━━━━━━━━━━━━━━━━━━━━━━━━━━\u001b[0m \u001b[32m18.5/18.5 MB\u001b[0m \u001b[31m22.9 MB/s\u001b[0m eta \u001b[36m0:00:00\u001b[0m\n",
            "\u001b[?25hCollecting icon_font_to_png (from aplanat)\n",
            "  Downloading icon_font_to_png-0.4.1-py2.py3-none-any.whl (161 kB)\n",
            "\u001b[2K     \u001b[90m━━━━━━━━━━━━━━━━━━━━━━━━━━━━━━━━━━━━━━━━\u001b[0m \u001b[32m161.4/161.4 kB\u001b[0m \u001b[31m8.1 MB/s\u001b[0m eta \u001b[36m0:00:00\u001b[0m\n",
            "\u001b[?25hRequirement already satisfied: markdown in /usr/local/lib/python3.10/dist-packages (from aplanat) (3.5)\n",
            "Requirement already satisfied: numpy in /usr/local/lib/python3.10/dist-packages (from aplanat) (1.23.5)\n",
            "Requirement already satisfied: pandas>=1.0.3 in /usr/local/lib/python3.10/dist-packages (from aplanat) (1.5.3)\n",
            "Requirement already satisfied: Pillow in /usr/local/lib/python3.10/dist-packages (from aplanat) (9.4.0)\n",
            "Requirement already satisfied: scipy in /usr/local/lib/python3.10/dist-packages (from aplanat) (1.11.3)\n",
            "Collecting si-prefix (from aplanat)\n",
            "  Downloading si-prefix-1.2.2.tar.gz (64 kB)\n",
            "\u001b[2K     \u001b[90m━━━━━━━━━━━━━━━━━━━━━━━━━━━━━━━━━━━━━━━━\u001b[0m \u001b[32m64.9/64.9 kB\u001b[0m \u001b[31m4.5 MB/s\u001b[0m eta \u001b[36m0:00:00\u001b[0m\n",
            "\u001b[?25h  Preparing metadata (setup.py) ... \u001b[?25l\u001b[?25hdone\n",
            "Requirement already satisfied: scikit-learn in /usr/local/lib/python3.10/dist-packages (from aplanat) (1.2.2)\n",
            "Collecting sigfig (from aplanat)\n",
            "  Downloading sigfig-1.3.3-py3-none-any.whl (9.8 kB)\n",
            "Requirement already satisfied: Jinja2>=2.9 in /usr/local/lib/python3.10/dist-packages (from bokeh<3.0.0->aplanat) (3.1.2)\n",
            "Requirement already satisfied: packaging>=16.8 in /usr/local/lib/python3.10/dist-packages (from bokeh<3.0.0->aplanat) (23.2)\n",
            "Requirement already satisfied: PyYAML>=3.10 in /usr/local/lib/python3.10/dist-packages (from bokeh<3.0.0->aplanat) (6.0.1)\n",
            "Requirement already satisfied: tornado>=5.1 in /usr/local/lib/python3.10/dist-packages (from bokeh<3.0.0->aplanat) (6.3.2)\n",
            "Requirement already satisfied: typing-extensions>=3.10.0 in /usr/local/lib/python3.10/dist-packages (from bokeh<3.0.0->aplanat) (4.3.0)\n",
            "Requirement already satisfied: python-dateutil>=2.8.1 in /usr/local/lib/python3.10/dist-packages (from pandas>=1.0.3->aplanat) (2.8.2)\n",
            "Requirement already satisfied: pytz>=2020.1 in /usr/local/lib/python3.10/dist-packages (from pandas>=1.0.3->aplanat) (2023.3.post1)\n",
            "Requirement already satisfied: requests>=2.12.5 in /usr/local/lib/python3.10/dist-packages (from icon_font_to_png->aplanat) (2.28.2)\n",
            "Requirement already satisfied: six>=1.10.0 in /usr/local/lib/python3.10/dist-packages (from icon_font_to_png->aplanat) (1.16.0)\n",
            "Collecting tinycss>=0.4 (from icon_font_to_png->aplanat)\n",
            "  Downloading tinycss-0.4.tar.gz (87 kB)\n",
            "\u001b[2K     \u001b[90m━━━━━━━━━━━━━━━━━━━━━━━━━━━━━━━━━━━━━━━━\u001b[0m \u001b[32m87.8/87.8 kB\u001b[0m \u001b[31m6.4 MB/s\u001b[0m eta \u001b[36m0:00:00\u001b[0m\n",
            "\u001b[?25h  Preparing metadata (setup.py) ... \u001b[?25l\u001b[?25hdone\n",
            "Requirement already satisfied: joblib>=1.1.1 in /usr/local/lib/python3.10/dist-packages (from scikit-learn->aplanat) (1.3.2)\n",
            "Requirement already satisfied: threadpoolctl>=2.0.0 in /usr/local/lib/python3.10/dist-packages (from scikit-learn->aplanat) (3.2.0)\n",
            "Requirement already satisfied: SortedContainers in /usr/local/lib/python3.10/dist-packages (from sigfig->aplanat) (2.4.0)\n",
            "Requirement already satisfied: MarkupSafe>=2.0 in /usr/local/lib/python3.10/dist-packages (from Jinja2>=2.9->bokeh<3.0.0->aplanat) (2.1.3)\n",
            "Requirement already satisfied: charset-normalizer<4,>=2 in /usr/local/lib/python3.10/dist-packages (from requests>=2.12.5->icon_font_to_png->aplanat) (3.3.0)\n",
            "Requirement already satisfied: idna<4,>=2.5 in /usr/local/lib/python3.10/dist-packages (from requests>=2.12.5->icon_font_to_png->aplanat) (3.4)\n",
            "Requirement already satisfied: urllib3<1.27,>=1.21.1 in /usr/local/lib/python3.10/dist-packages (from requests>=2.12.5->icon_font_to_png->aplanat) (1.26.18)\n",
            "Requirement already satisfied: certifi>=2017.4.17 in /usr/local/lib/python3.10/dist-packages (from requests>=2.12.5->icon_font_to_png->aplanat) (2023.7.22)\n",
            "Building wheels for collected packages: aplanat, si-prefix, tinycss\n",
            "  Building wheel for aplanat (setup.py) ... \u001b[?25l\u001b[?25hdone\n",
            "  Created wheel for aplanat: filename=aplanat-0.6.16-py3-none-any.whl size=306795 sha256=cd81ef86d2bc55338607972a6493123532e2a6b2c45234dfe019d989635cfdd5\n",
            "  Stored in directory: /root/.cache/pip/wheels/dc/2d/f6/7779b88d72be0597d4c27897ecc1e2ffa01470fd147d74925a\n",
            "  Building wheel for si-prefix (setup.py) ... \u001b[?25l\u001b[?25hdone\n",
            "  Created wheel for si-prefix: filename=si_prefix-1.2.2-py3-none-any.whl size=5860 sha256=8682acd234e0244cf9e95c5bb1cfdb6ab403ce081eae1d0b3cefe54d005a45fd\n",
            "  Stored in directory: /root/.cache/pip/wheels/3d/bf/4f/aebf41c9963204cb2d59b967b453e4162c5495793762b8ad31\n",
            "  Building wheel for tinycss (setup.py) ... \u001b[?25l\u001b[?25hdone\n",
            "  Created wheel for tinycss: filename=tinycss-0.4-cp310-cp310-linux_x86_64.whl size=307464 sha256=1d10d03f4482c7524ec217806586afde96241cf22efcc4cfcb48bda05dde9c0d\n",
            "  Stored in directory: /root/.cache/pip/wheels/39/52/4c/ca7bc9c8bb0fc4789d806bf78cac9d230efb3d3d8082e247c6\n",
            "Successfully built aplanat si-prefix tinycss\n",
            "Installing collected packages: tinycss, si-prefix, sigfig, icon_font_to_png, bokeh, aplanat\n",
            "  Attempting uninstall: bokeh\n",
            "    Found existing installation: bokeh 3.2.2\n",
            "    Uninstalling bokeh-3.2.2:\n",
            "      Successfully uninstalled bokeh-3.2.2\n",
            "\u001b[31mERROR: pip's dependency resolver does not currently take into account all the packages that are installed. This behaviour is the source of the following dependency conflicts.\n",
            "panel 1.2.3 requires bokeh<3.3.0,>=3.1.1, but you have bokeh 2.4.3 which is incompatible.\u001b[0m\u001b[31m\n",
            "\u001b[0mSuccessfully installed aplanat-0.6.16 bokeh-2.4.3 icon_font_to_png-0.4.1 si-prefix-1.2.2 sigfig-1.3.3 tinycss-0.4\n"
          ]
        }
      ]
    },
    {
      "cell_type": "code",
      "source": [
        "pip install scikit-allel"
      ],
      "metadata": {
        "id": "iA5YpH7QiflU",
        "colab": {
          "base_uri": "https://localhost:8080/"
        },
        "outputId": "c23bc483-e3f5-474a-9a50-c8eb54d09021"
      },
      "execution_count": 3,
      "outputs": [
        {
          "output_type": "stream",
          "name": "stdout",
          "text": [
            "Collecting scikit-allel\n",
            "  Downloading scikit_allel-1.3.7-cp310-cp310-manylinux_2_17_x86_64.manylinux2014_x86_64.whl (8.1 MB)\n",
            "\u001b[2K     \u001b[90m━━━━━━━━━━━━━━━━━━━━━━━━━━━━━━━━━━━━━━━━\u001b[0m \u001b[32m8.1/8.1 MB\u001b[0m \u001b[31m11.7 MB/s\u001b[0m eta \u001b[36m0:00:00\u001b[0m\n",
            "\u001b[?25hRequirement already satisfied: numpy in /usr/local/lib/python3.10/dist-packages (from scikit-allel) (1.23.5)\n",
            "Requirement already satisfied: dask[array] in /usr/local/lib/python3.10/dist-packages (from scikit-allel) (2023.8.1)\n",
            "Requirement already satisfied: click>=8.0 in /usr/local/lib/python3.10/dist-packages (from dask[array]->scikit-allel) (8.1.7)\n",
            "Requirement already satisfied: cloudpickle>=1.5.0 in /usr/local/lib/python3.10/dist-packages (from dask[array]->scikit-allel) (2.2.1)\n",
            "Requirement already satisfied: fsspec>=2021.09.0 in /usr/local/lib/python3.10/dist-packages (from dask[array]->scikit-allel) (2023.6.0)\n",
            "Requirement already satisfied: packaging>=20.0 in /usr/local/lib/python3.10/dist-packages (from dask[array]->scikit-allel) (23.2)\n",
            "Requirement already satisfied: partd>=1.2.0 in /usr/local/lib/python3.10/dist-packages (from dask[array]->scikit-allel) (1.4.1)\n",
            "Requirement already satisfied: pyyaml>=5.3.1 in /usr/local/lib/python3.10/dist-packages (from dask[array]->scikit-allel) (6.0.1)\n",
            "Requirement already satisfied: toolz>=0.10.0 in /usr/local/lib/python3.10/dist-packages (from dask[array]->scikit-allel) (0.12.0)\n",
            "Requirement already satisfied: importlib-metadata>=4.13.0 in /usr/local/lib/python3.10/dist-packages (from dask[array]->scikit-allel) (6.8.0)\n",
            "Requirement already satisfied: zipp>=0.5 in /usr/local/lib/python3.10/dist-packages (from importlib-metadata>=4.13.0->dask[array]->scikit-allel) (3.17.0)\n",
            "Requirement already satisfied: locket in /usr/local/lib/python3.10/dist-packages (from partd>=1.2.0->dask[array]->scikit-allel) (1.0.0)\n",
            "Installing collected packages: scikit-allel\n",
            "Successfully installed scikit-allel-1.3.7\n"
          ]
        }
      ]
    },
    {
      "cell_type": "markdown",
      "metadata": {
        "id": "OZBjnTqfot15"
      },
      "source": [
        "### Import all packages that will be used"
      ]
    },
    {
      "cell_type": "code",
      "metadata": {
        "id": "RXqLP1mJoebY",
        "colab": {
          "base_uri": "https://localhost:8080/"
        },
        "outputId": "3d7727f7-4d7c-4102-e2e9-1dcbf7da61b0"
      },
      "source": [
        "# Numpy for data management\n",
        "import numpy as np\n",
        "\n",
        "# Pandas also for data management\n",
        "import pandas as pd\n",
        "\n",
        "# Matplotlib for additional customization\n",
        "from matplotlib import pyplot as plt\n",
        "%matplotlib inline\n",
        "\n",
        "#ScikitLearn\n",
        "\n",
        "from sklearn.linear_model import LogisticRegression\n",
        "\n",
        "from sklearn.model_selection import train_test_split\n",
        "\n",
        "from sklearn.model_selection import KFold\n",
        "\n",
        "from sklearn.model_selection import StratifiedKFold\n",
        "\n",
        "from sklearn.model_selection import KFold\n",
        "\n",
        "from sklearn.neighbors import KernelDensity\n",
        "\n",
        "from sklearn.model_selection import StratifiedKFold\n",
        "\n",
        "from sklearn.utils import shuffle\n",
        "\n",
        "from sklearn.naive_bayes import GaussianNB\n",
        "\n",
        "from sklearn.utils import shuffle\n",
        "\n",
        "from scipy.stats import mode\n",
        "\n",
        "from google.colab import files #this is to load files from your local disk\n",
        "\n",
        "from sklearn.svm import LinearSVC\n",
        "\n",
        "from sklearn.svm import SVC\n",
        "\n",
        "from pysam import VariantFile\n",
        "\n",
        "import itertools\n",
        "\n",
        "from bokeh.layouts import gridplot\n",
        "import aplanat\n",
        "from aplanat import bars\n",
        "from sklearn.model_selection import GridSearchCV\n",
        "from sklearn import metrics\n",
        "from sklearn.model_selection import RepeatedStratifiedKFold\n",
        "from sklearn.metrics import confusion_matrix, ConfusionMatrixDisplay\n",
        "from scipy.sparse.construct import hstack\n",
        "import re\n",
        "import allel\n"
      ],
      "execution_count": 4,
      "outputs": [
        {
          "output_type": "stream",
          "name": "stderr",
          "text": [
            "<ipython-input-4-722a4d47e3d2>:52: DeprecationWarning: Please use `hstack` from the `scipy.sparse` namespace, the `scipy.sparse.construct` namespace is deprecated.\n",
            "  from scipy.sparse.construct import hstack\n"
          ]
        }
      ]
    },
    {
      "cell_type": "markdown",
      "source": [
        "### Aux functions"
      ],
      "metadata": {
        "id": "jDJTCAzWSW2t"
      }
    },
    {
      "cell_type": "code",
      "source": [
        "def parse_vcf(fname, info_cols=None, nrows=None):\n",
        "    \"\"\"Parse a VCF file into a dataframe.\n",
        "    The INFO column is parsed into a dictionary with specified dtype in distinct column.\n",
        "    nrows: how many rows to read from the start of the header.\n",
        "    Example:\n",
        "    vcf_df_GT = parse_vcf('test.vcf', info_cols={'DP':int,'CIGAR':str,}, nrows=1000)\n",
        "    \"\"\"\n",
        "    header = \"CHROM POS ID REF ALT QUAL FILTER INFO FORMAT GT\".split()\n",
        "    vcf = pd.read_csv(\n",
        "        fname, delimiter='\\t', comment='#', names=header, nrows=nrows)\n",
        "    # create a dictionary out of INFO field\n",
        "    vcf['INFO'] = vcf['INFO'].str.split(\";\") \\\n",
        "        .apply(lambda x: dict([y.split(\"=\") for y in x]))\n",
        "    if info_cols is not None:\n",
        "        for field, dtype in info_cols.items():\n",
        "            try:\n",
        "                vcf[field] = vcf['INFO'].apply(lambda x: x.get(field, None))\n",
        "                vcf[field] = vcf[field].astype(dtype)\n",
        "            except:\n",
        "                pass\n",
        "    return vcf\n",
        "\n",
        "def parse_vcf2(fname, info_cols=None, nrows=None):\n",
        "    \"\"\"Parse a VCF file into a dataframe.\n",
        "    The INFO column is parsed into a dictionary with specified dtype in distinct column.\n",
        "    nrows: how many rows to read from the start of the header.\n",
        "    Example:\n",
        "    vcf_df_GT = parse_vcf('test.vcf', info_cols={'DP':int,'CIGAR':str,}, nrows=1000)\n",
        "    \"\"\"\n",
        "    header = \"CHROM POS ID REF ALT QUAL FILTER INFO FORMAT GT GT2\".split()\n",
        "    vcf = pd.read_csv(\n",
        "        fname, delimiter='\\t', comment='#', names=header, nrows=nrows)\n",
        "    # create a dictionary out of INFO field\n",
        "    vcf['INFO'] = vcf['INFO'].str.split(\";\") \\\n",
        "        .apply(lambda x: dict([y.split(\"=\") for y in x]))\n",
        "    if info_cols is not None:\n",
        "        for field, dtype in info_cols.items():\n",
        "            try:\n",
        "                vcf[field] = vcf['INFO'].apply(lambda x: x.get(field, None))\n",
        "                vcf[field] = vcf[field].astype(dtype)\n",
        "            except:\n",
        "                pass\n",
        "    return vcf\n",
        "\n",
        "\n",
        "\n",
        "\n",
        "def match_groudtruth (dataset, gt_dataset):\n",
        "  \"\"\" Return dataset with ground truth data (1 for variant and 0 for false positive)\n",
        "  based on the provided gt_dataset. Return dataset only with continous features. This function\n",
        "  is to be used for creating dataset for training with ML classifiers.\n",
        " \"\"\"\n",
        "  dataset2=dataset.assign(GROUND=dataset.POS.isin(gt_dataset.POS).astype(int))\n",
        "  dataset3= dataset2.loc[:,((dataset2.dtypes=='float64').values | (dataset2.dtypes=='int').values)]\n",
        "  dataset4 = dataset3.set_index('POS')\n",
        "  return dataset4\n",
        "\n",
        "\n",
        "def confusion_matrix(dataset, gt_dataset, genome_size):\n",
        "    \"\"\"\n",
        "    Based on the dataset that was generated from variant caller pipeline and ground truth dataset\n",
        "    (all known mutations, e.g., all true positives) calculate the confusion matrix.\n",
        "    \"\"\"\n",
        "    d_P = dataset[\"POS\"].values\n",
        "    g_P = gt_dataset[\"POS\"].values\n",
        "    matrix = np.zeros((2, 2))  # Matrix of 2 by 2 (added a missing closing parenthesis)\n",
        "    matrix[1, 1] = genome_size - len(gt_dataset)  # True Negatives\n",
        "    for i in d_P:\n",
        "        if i in g_P:\n",
        "            matrix[0, 0] += 1  # True Positives\n",
        "        elif i not in g_P:\n",
        "            matrix[0, 1] += 1  # False Positives\n",
        "    for k in g_P:\n",
        "        if k not in d_P:\n",
        "            matrix[1, 0] += 1  # False Negatives\n",
        "    return matrix\n",
        "\n",
        "\n",
        "\n",
        "\n",
        "import matplotlib.pyplot as plt\n",
        "\n",
        "def plot_custom_confusion_matrix(confusion_matrix, title=\"Confusion Matrix\"):\n",
        "    \"\"\"\n",
        "    This function plots a custom 2x2 confusion matrix with specified colors by name and labels for TP, TN, FP, FN.\n",
        "\n",
        "    Args:\n",
        "    confusion_matrix (list of lists): A 2x2 confusion matrix in the format [[TP, FP], [FN, TN]]\n",
        "    title (str): Custom title for the confusion matrix (optional)\n",
        "\n",
        "    Returns:\n",
        "    None\n",
        "    \"\"\"\n",
        "    class_names = ['Positive', 'Negative']\n",
        "\n",
        "    plt.imshow(confusion_matrix, interpolation='nearest', cmap='gray', vmin=0, vmax=1, aspect='auto')  # Light gray background\n",
        "    plt.title(title)  # Set the custom title\n",
        "\n",
        "    tick_marks = [0, 1]\n",
        "    plt.xticks(tick_marks, class_names)\n",
        "    plt.yticks(tick_marks, class_names)\n",
        "\n",
        "    labels = [\"TP\", \"FP\", \"FN\", \"TN\"]\n",
        "    for i in range(2):\n",
        "        for j in range(2):\n",
        "            if i == j:\n",
        "                color = 'green'  # TP and TN in limegreen\n",
        "            else:\n",
        "                color = 'red'    # FP and FN in pink\n",
        "            plt.text(j, i, str(confusion_matrix[i][j]), horizontalalignment=\"center\", color=color)\n",
        "            plt.text(j, i-0.2, labels[i*2+j], horizontalalignment=\"center\")\n",
        "\n",
        "    plt.tight_layout()\n",
        "    plt.ylabel('True label')\n",
        "    plt.xlabel('Predicted label')\n",
        "    plt.show()\n",
        "\n",
        "# Example usage with a custom title:\n",
        "# Replace the example matrix with your actual 2x2 confusion matrix\n",
        "# custom_matrix = [[42, 8], [12, 38]]\n",
        "# plot_custom_confusion_matrix(custom_matrix, title=\"Confusion Matrix - My Title\")\n",
        "\n",
        "\n",
        "\n",
        "\n",
        "def metrics(matrix, calculate=None):\n",
        "  \"\"\"Function to calculate metrics for different variant callers based on confusion matrix.\n",
        "  If no second argument is given, returns all the metrics. If particular metric is necessary,\n",
        "  define the argument in the following way.\n",
        "  Example:\n",
        "  precision=metrics(matrix, \"precision\")\n",
        "  \"\"\"\n",
        "  precision=matrix[0,0]/(matrix[0,0]+matrix[0,1])\n",
        "  recall= matrix[0,0]/(matrix[0,0]+matrix[1,0])\n",
        "  accuracy=(matrix[0,0]+matrix[1,1])/(matrix[0,0]+matrix[0,1]+matrix[1,0]+matrix[1,1])\n",
        "  f1=2*(recall*precision)/(recall+precision)\n",
        "  metrics=[precision, recall, accuracy, f1]\n",
        "  if calculate is None:\n",
        "    return metrics\n",
        "  elif calculate == \"precision\":\n",
        "    return precision\n",
        "  elif calculate == \"recall\":\n",
        "    return recall\n",
        "  elif calculate == \"accuracy\":\n",
        "    return accuracy\n",
        "  elif calculate == \"f1\":\n",
        "    return f1\n",
        "\n",
        "\n",
        "def TPR_FPR(dataset, gt_dataset, genome_size): #pass dataframe from variant caller and GT dataframe\n",
        "    d_P=dataset[\"POS\"].values\n",
        "    g_P=gt_dataset[\"POS\"].values\n",
        "    matrix=np.zeros((2,2)) # matrix of 2 by 2\n",
        "    matrix[1,1]=genome_size - len(gt_dataset) # True Negatives\n",
        "    for i in d_P:\n",
        "        if i in g_P:\n",
        "            matrix[0,0]+=1 #True Positives\n",
        "        elif i not in g_P:\n",
        "            matrix[0,1]+=1 #False Positives\n",
        "    for k in g_P:\n",
        "      if k not in d_P:\n",
        "        matrix[1,0]=+1 #False Negatives\n",
        "    TPR=matrix[0,0]/(matrix[0,0]+matrix[1,0])\n",
        "    FPR=matrix[0,1]/(matrix[1,1]+matrix[0,1])\n",
        "    return TPR, FPR\n",
        "\n",
        "def random_split_by_number(data,test_points):\n",
        " \"\"\"return two matrices splitting the data at random\n",
        "    Example:\n",
        "    train, temp = random_split_by_number(data, 39)\n",
        "    valid, test = random_split_by_number(temp, 20)\n",
        " \"\"\"\n",
        " ranks = np.arange(data.shape[0])\n",
        " np.random.shuffle(ranks)\n",
        " train = data[ranks>=test_points,:]\n",
        " test = data[ranks<test_points,:]\n",
        " return train,test\n",
        "\n",
        "def parse_vcf_mutect(fname, info_cols=None, nrows=None):\n",
        "    \"\"\"Parse a VCF file into a dataframe.\n",
        "    The INFO column is parsed into a dictionary with specified dtype in distinct column.\n",
        "    nrows: how many rows to read from the start of the header.\n",
        "    Example:\n",
        "    vcf_df_GT = parse_vcf('test.vcf', info_cols={'DP': int, 'CIGAR': str}, nrows=1000)\n",
        "    \"\"\"\n",
        "    header = \"CHROM POS ID REF ALT QUAL FILTER INFO FORMAT GT\".split()\n",
        "    vcf = pd.read_csv(\n",
        "        fname, delimiter='\\t', comment='#', names=header, nrows=nrows)\n",
        "\n",
        "    def parse_info(info_str):\n",
        "        info_dict = {}\n",
        "        for item in info_str.split(\";\"):\n",
        "            parts = item.split(\"=\")\n",
        "            if len(parts) == 2:\n",
        "                key, value = parts\n",
        "            else:\n",
        "                key = parts[0]\n",
        "                value = \"\"\n",
        "            info_dict[key] = value\n",
        "        return info_dict\n",
        "\n",
        "    vcf['INFO'] = vcf['INFO'].apply(parse_info)\n",
        "\n",
        "    if info_cols is not None:\n",
        "        for field, dtype in info_cols.items():\n",
        "            try:\n",
        "                vcf[field] = vcf['INFO'].apply(lambda x: x.get(field, None))\n",
        "                vcf[field] = vcf[field].astype(dtype)\n",
        "            except:\n",
        "                pass\n",
        "    return vcf\n",
        "\n",
        "\n",
        "\n",
        "\n",
        "\n"
      ],
      "metadata": {
        "colab": {
          "base_uri": "https://localhost:8080/"
        },
        "id": "0ii42jZ0SUxu",
        "outputId": "c59cfc1b-6737-47dc-e2d9-e4d3d86eded8"
      },
      "execution_count": 22,
      "outputs": [
        {
          "output_type": "stream",
          "name": "stderr",
          "text": [
            "/usr/local/lib/python3.10/dist-packages/ipykernel/ipkernel.py:283: DeprecationWarning: `should_run_async` will not call `transform_cell` automatically in the future. Please pass the result to `transformed_cell` argument and any exception that happen during thetransform in `preprocessing_exc_tuple` in IPython 7.17 and above.\n",
            "  and should_run_async(code)\n"
          ]
        }
      ]
    },
    {
      "cell_type": "markdown",
      "source": [
        "### GT import"
      ],
      "metadata": {
        "id": "0ZtYoR2gRoKj"
      }
    },
    {
      "cell_type": "code",
      "source": [
        "from google.colab import files\n",
        "uploaded = files.upload()"
      ],
      "metadata": {
        "colab": {
          "base_uri": "https://localhost:8080/",
          "height": 128
        },
        "id": "hJ_y84-YRoSS",
        "outputId": "ab9b6351-4400-4cac-e7c2-89376cf0dc7f"
      },
      "execution_count": 6,
      "outputs": [
        {
          "output_type": "stream",
          "name": "stderr",
          "text": [
            "/usr/local/lib/python3.10/dist-packages/ipykernel/ipkernel.py:283: DeprecationWarning: `should_run_async` will not call `transform_cell` automatically in the future. Please pass the result to `transformed_cell` argument and any exception that happen during thetransform in `preprocessing_exc_tuple` in IPython 7.17 and above.\n",
            "  and should_run_async(code)\n"
          ]
        },
        {
          "output_type": "display_data",
          "data": {
            "text/plain": [
              "<IPython.core.display.HTML object>"
            ],
            "text/html": [
              "\n",
              "     <input type=\"file\" id=\"files-54dbc910-0a0d-47d5-9693-b6ad3c25310b\" name=\"files[]\" multiple disabled\n",
              "        style=\"border:none\" />\n",
              "     <output id=\"result-54dbc910-0a0d-47d5-9693-b6ad3c25310b\">\n",
              "      Upload widget is only available when the cell has been executed in the\n",
              "      current browser session. Please rerun this cell to enable.\n",
              "      </output>\n",
              "      <script>// Copyright 2017 Google LLC\n",
              "//\n",
              "// Licensed under the Apache License, Version 2.0 (the \"License\");\n",
              "// you may not use this file except in compliance with the License.\n",
              "// You may obtain a copy of the License at\n",
              "//\n",
              "//      http://www.apache.org/licenses/LICENSE-2.0\n",
              "//\n",
              "// Unless required by applicable law or agreed to in writing, software\n",
              "// distributed under the License is distributed on an \"AS IS\" BASIS,\n",
              "// WITHOUT WARRANTIES OR CONDITIONS OF ANY KIND, either express or implied.\n",
              "// See the License for the specific language governing permissions and\n",
              "// limitations under the License.\n",
              "\n",
              "/**\n",
              " * @fileoverview Helpers for google.colab Python module.\n",
              " */\n",
              "(function(scope) {\n",
              "function span(text, styleAttributes = {}) {\n",
              "  const element = document.createElement('span');\n",
              "  element.textContent = text;\n",
              "  for (const key of Object.keys(styleAttributes)) {\n",
              "    element.style[key] = styleAttributes[key];\n",
              "  }\n",
              "  return element;\n",
              "}\n",
              "\n",
              "// Max number of bytes which will be uploaded at a time.\n",
              "const MAX_PAYLOAD_SIZE = 100 * 1024;\n",
              "\n",
              "function _uploadFiles(inputId, outputId) {\n",
              "  const steps = uploadFilesStep(inputId, outputId);\n",
              "  const outputElement = document.getElementById(outputId);\n",
              "  // Cache steps on the outputElement to make it available for the next call\n",
              "  // to uploadFilesContinue from Python.\n",
              "  outputElement.steps = steps;\n",
              "\n",
              "  return _uploadFilesContinue(outputId);\n",
              "}\n",
              "\n",
              "// This is roughly an async generator (not supported in the browser yet),\n",
              "// where there are multiple asynchronous steps and the Python side is going\n",
              "// to poll for completion of each step.\n",
              "// This uses a Promise to block the python side on completion of each step,\n",
              "// then passes the result of the previous step as the input to the next step.\n",
              "function _uploadFilesContinue(outputId) {\n",
              "  const outputElement = document.getElementById(outputId);\n",
              "  const steps = outputElement.steps;\n",
              "\n",
              "  const next = steps.next(outputElement.lastPromiseValue);\n",
              "  return Promise.resolve(next.value.promise).then((value) => {\n",
              "    // Cache the last promise value to make it available to the next\n",
              "    // step of the generator.\n",
              "    outputElement.lastPromiseValue = value;\n",
              "    return next.value.response;\n",
              "  });\n",
              "}\n",
              "\n",
              "/**\n",
              " * Generator function which is called between each async step of the upload\n",
              " * process.\n",
              " * @param {string} inputId Element ID of the input file picker element.\n",
              " * @param {string} outputId Element ID of the output display.\n",
              " * @return {!Iterable<!Object>} Iterable of next steps.\n",
              " */\n",
              "function* uploadFilesStep(inputId, outputId) {\n",
              "  const inputElement = document.getElementById(inputId);\n",
              "  inputElement.disabled = false;\n",
              "\n",
              "  const outputElement = document.getElementById(outputId);\n",
              "  outputElement.innerHTML = '';\n",
              "\n",
              "  const pickedPromise = new Promise((resolve) => {\n",
              "    inputElement.addEventListener('change', (e) => {\n",
              "      resolve(e.target.files);\n",
              "    });\n",
              "  });\n",
              "\n",
              "  const cancel = document.createElement('button');\n",
              "  inputElement.parentElement.appendChild(cancel);\n",
              "  cancel.textContent = 'Cancel upload';\n",
              "  const cancelPromise = new Promise((resolve) => {\n",
              "    cancel.onclick = () => {\n",
              "      resolve(null);\n",
              "    };\n",
              "  });\n",
              "\n",
              "  // Wait for the user to pick the files.\n",
              "  const files = yield {\n",
              "    promise: Promise.race([pickedPromise, cancelPromise]),\n",
              "    response: {\n",
              "      action: 'starting',\n",
              "    }\n",
              "  };\n",
              "\n",
              "  cancel.remove();\n",
              "\n",
              "  // Disable the input element since further picks are not allowed.\n",
              "  inputElement.disabled = true;\n",
              "\n",
              "  if (!files) {\n",
              "    return {\n",
              "      response: {\n",
              "        action: 'complete',\n",
              "      }\n",
              "    };\n",
              "  }\n",
              "\n",
              "  for (const file of files) {\n",
              "    const li = document.createElement('li');\n",
              "    li.append(span(file.name, {fontWeight: 'bold'}));\n",
              "    li.append(span(\n",
              "        `(${file.type || 'n/a'}) - ${file.size} bytes, ` +\n",
              "        `last modified: ${\n",
              "            file.lastModifiedDate ? file.lastModifiedDate.toLocaleDateString() :\n",
              "                                    'n/a'} - `));\n",
              "    const percent = span('0% done');\n",
              "    li.appendChild(percent);\n",
              "\n",
              "    outputElement.appendChild(li);\n",
              "\n",
              "    const fileDataPromise = new Promise((resolve) => {\n",
              "      const reader = new FileReader();\n",
              "      reader.onload = (e) => {\n",
              "        resolve(e.target.result);\n",
              "      };\n",
              "      reader.readAsArrayBuffer(file);\n",
              "    });\n",
              "    // Wait for the data to be ready.\n",
              "    let fileData = yield {\n",
              "      promise: fileDataPromise,\n",
              "      response: {\n",
              "        action: 'continue',\n",
              "      }\n",
              "    };\n",
              "\n",
              "    // Use a chunked sending to avoid message size limits. See b/62115660.\n",
              "    let position = 0;\n",
              "    do {\n",
              "      const length = Math.min(fileData.byteLength - position, MAX_PAYLOAD_SIZE);\n",
              "      const chunk = new Uint8Array(fileData, position, length);\n",
              "      position += length;\n",
              "\n",
              "      const base64 = btoa(String.fromCharCode.apply(null, chunk));\n",
              "      yield {\n",
              "        response: {\n",
              "          action: 'append',\n",
              "          file: file.name,\n",
              "          data: base64,\n",
              "        },\n",
              "      };\n",
              "\n",
              "      let percentDone = fileData.byteLength === 0 ?\n",
              "          100 :\n",
              "          Math.round((position / fileData.byteLength) * 100);\n",
              "      percent.textContent = `${percentDone}% done`;\n",
              "\n",
              "    } while (position < fileData.byteLength);\n",
              "  }\n",
              "\n",
              "  // All done.\n",
              "  yield {\n",
              "    response: {\n",
              "      action: 'complete',\n",
              "    }\n",
              "  };\n",
              "}\n",
              "\n",
              "scope.google = scope.google || {};\n",
              "scope.google.colab = scope.google.colab || {};\n",
              "scope.google.colab._files = {\n",
              "  _uploadFiles,\n",
              "  _uploadFilesContinue,\n",
              "};\n",
              "})(self);\n",
              "</script> "
            ]
          },
          "metadata": {}
        },
        {
          "output_type": "stream",
          "name": "stdout",
          "text": [
            "Saving GT_832.csv to GT_832.csv\n"
          ]
        }
      ]
    },
    {
      "cell_type": "code",
      "source": [
        "import io\n",
        "vcf_df_GT = pd.read_csv(io.BytesIO(uploaded['GT_832.csv']))\n",
        "vcf_df_GT"
      ],
      "metadata": {
        "colab": {
          "base_uri": "https://localhost:8080/",
          "height": 478
        },
        "id": "0qezYpm5R_dU",
        "outputId": "ff6d9c39-efb7-4be1-d08c-8d5adf70aae1"
      },
      "execution_count": 7,
      "outputs": [
        {
          "output_type": "stream",
          "name": "stderr",
          "text": [
            "/usr/local/lib/python3.10/dist-packages/ipykernel/ipkernel.py:283: DeprecationWarning: `should_run_async` will not call `transform_cell` automatically in the future. Please pass the result to `transformed_cell` argument and any exception that happen during thetransform in `preprocessing_exc_tuple` in IPython 7.17 and above.\n",
            "  and should_run_async(code)\n"
          ]
        },
        {
          "output_type": "execute_result",
          "data": {
            "text/plain": [
              "        CHROM      POS ID REF ALT       QUAL FILTER\n",
              "0    AE017196     3915  .   C   T  54123.500   PASS\n",
              "1    AE017196    10452  .   T   G  29524.400   PASS\n",
              "2    AE017196    12060  .   C   T   1109.260   PASS\n",
              "3    AE017196    12225  .   C   T    477.204   PASS\n",
              "4    AE017196    12863  .   T   C   1248.810   PASS\n",
              "..        ...      ... ..  ..  ..        ...    ...\n",
              "827  AE017196  1257121  .   C   T   8260.820   PASS\n",
              "828  AE017196  1258432  .   A   G   1014.820   PASS\n",
              "829  AE017196  1260309  .   C   T  10111.700   PASS\n",
              "830  AE017196  1261032  .   A   T    959.379   PASS\n",
              "831  AE017196  1262019  .   G   A   4895.360   PASS\n",
              "\n",
              "[832 rows x 7 columns]"
            ],
            "text/html": [
              "\n",
              "  <div id=\"df-50b27e78-be27-4a58-808c-bdae5bbe2e37\" class=\"colab-df-container\">\n",
              "    <div>\n",
              "<style scoped>\n",
              "    .dataframe tbody tr th:only-of-type {\n",
              "        vertical-align: middle;\n",
              "    }\n",
              "\n",
              "    .dataframe tbody tr th {\n",
              "        vertical-align: top;\n",
              "    }\n",
              "\n",
              "    .dataframe thead th {\n",
              "        text-align: right;\n",
              "    }\n",
              "</style>\n",
              "<table border=\"1\" class=\"dataframe\">\n",
              "  <thead>\n",
              "    <tr style=\"text-align: right;\">\n",
              "      <th></th>\n",
              "      <th>CHROM</th>\n",
              "      <th>POS</th>\n",
              "      <th>ID</th>\n",
              "      <th>REF</th>\n",
              "      <th>ALT</th>\n",
              "      <th>QUAL</th>\n",
              "      <th>FILTER</th>\n",
              "    </tr>\n",
              "  </thead>\n",
              "  <tbody>\n",
              "    <tr>\n",
              "      <th>0</th>\n",
              "      <td>AE017196</td>\n",
              "      <td>3915</td>\n",
              "      <td>.</td>\n",
              "      <td>C</td>\n",
              "      <td>T</td>\n",
              "      <td>54123.500</td>\n",
              "      <td>PASS</td>\n",
              "    </tr>\n",
              "    <tr>\n",
              "      <th>1</th>\n",
              "      <td>AE017196</td>\n",
              "      <td>10452</td>\n",
              "      <td>.</td>\n",
              "      <td>T</td>\n",
              "      <td>G</td>\n",
              "      <td>29524.400</td>\n",
              "      <td>PASS</td>\n",
              "    </tr>\n",
              "    <tr>\n",
              "      <th>2</th>\n",
              "      <td>AE017196</td>\n",
              "      <td>12060</td>\n",
              "      <td>.</td>\n",
              "      <td>C</td>\n",
              "      <td>T</td>\n",
              "      <td>1109.260</td>\n",
              "      <td>PASS</td>\n",
              "    </tr>\n",
              "    <tr>\n",
              "      <th>3</th>\n",
              "      <td>AE017196</td>\n",
              "      <td>12225</td>\n",
              "      <td>.</td>\n",
              "      <td>C</td>\n",
              "      <td>T</td>\n",
              "      <td>477.204</td>\n",
              "      <td>PASS</td>\n",
              "    </tr>\n",
              "    <tr>\n",
              "      <th>4</th>\n",
              "      <td>AE017196</td>\n",
              "      <td>12863</td>\n",
              "      <td>.</td>\n",
              "      <td>T</td>\n",
              "      <td>C</td>\n",
              "      <td>1248.810</td>\n",
              "      <td>PASS</td>\n",
              "    </tr>\n",
              "    <tr>\n",
              "      <th>...</th>\n",
              "      <td>...</td>\n",
              "      <td>...</td>\n",
              "      <td>...</td>\n",
              "      <td>...</td>\n",
              "      <td>...</td>\n",
              "      <td>...</td>\n",
              "      <td>...</td>\n",
              "    </tr>\n",
              "    <tr>\n",
              "      <th>827</th>\n",
              "      <td>AE017196</td>\n",
              "      <td>1257121</td>\n",
              "      <td>.</td>\n",
              "      <td>C</td>\n",
              "      <td>T</td>\n",
              "      <td>8260.820</td>\n",
              "      <td>PASS</td>\n",
              "    </tr>\n",
              "    <tr>\n",
              "      <th>828</th>\n",
              "      <td>AE017196</td>\n",
              "      <td>1258432</td>\n",
              "      <td>.</td>\n",
              "      <td>A</td>\n",
              "      <td>G</td>\n",
              "      <td>1014.820</td>\n",
              "      <td>PASS</td>\n",
              "    </tr>\n",
              "    <tr>\n",
              "      <th>829</th>\n",
              "      <td>AE017196</td>\n",
              "      <td>1260309</td>\n",
              "      <td>.</td>\n",
              "      <td>C</td>\n",
              "      <td>T</td>\n",
              "      <td>10111.700</td>\n",
              "      <td>PASS</td>\n",
              "    </tr>\n",
              "    <tr>\n",
              "      <th>830</th>\n",
              "      <td>AE017196</td>\n",
              "      <td>1261032</td>\n",
              "      <td>.</td>\n",
              "      <td>A</td>\n",
              "      <td>T</td>\n",
              "      <td>959.379</td>\n",
              "      <td>PASS</td>\n",
              "    </tr>\n",
              "    <tr>\n",
              "      <th>831</th>\n",
              "      <td>AE017196</td>\n",
              "      <td>1262019</td>\n",
              "      <td>.</td>\n",
              "      <td>G</td>\n",
              "      <td>A</td>\n",
              "      <td>4895.360</td>\n",
              "      <td>PASS</td>\n",
              "    </tr>\n",
              "  </tbody>\n",
              "</table>\n",
              "<p>832 rows × 7 columns</p>\n",
              "</div>\n",
              "    <div class=\"colab-df-buttons\">\n",
              "\n",
              "  <div class=\"colab-df-container\">\n",
              "    <button class=\"colab-df-convert\" onclick=\"convertToInteractive('df-50b27e78-be27-4a58-808c-bdae5bbe2e37')\"\n",
              "            title=\"Convert this dataframe to an interactive table.\"\n",
              "            style=\"display:none;\">\n",
              "\n",
              "  <svg xmlns=\"http://www.w3.org/2000/svg\" height=\"24px\" viewBox=\"0 -960 960 960\">\n",
              "    <path d=\"M120-120v-720h720v720H120Zm60-500h600v-160H180v160Zm220 220h160v-160H400v160Zm0 220h160v-160H400v160ZM180-400h160v-160H180v160Zm440 0h160v-160H620v160ZM180-180h160v-160H180v160Zm440 0h160v-160H620v160Z\"/>\n",
              "  </svg>\n",
              "    </button>\n",
              "\n",
              "  <style>\n",
              "    .colab-df-container {\n",
              "      display:flex;\n",
              "      gap: 12px;\n",
              "    }\n",
              "\n",
              "    .colab-df-convert {\n",
              "      background-color: #E8F0FE;\n",
              "      border: none;\n",
              "      border-radius: 50%;\n",
              "      cursor: pointer;\n",
              "      display: none;\n",
              "      fill: #1967D2;\n",
              "      height: 32px;\n",
              "      padding: 0 0 0 0;\n",
              "      width: 32px;\n",
              "    }\n",
              "\n",
              "    .colab-df-convert:hover {\n",
              "      background-color: #E2EBFA;\n",
              "      box-shadow: 0px 1px 2px rgba(60, 64, 67, 0.3), 0px 1px 3px 1px rgba(60, 64, 67, 0.15);\n",
              "      fill: #174EA6;\n",
              "    }\n",
              "\n",
              "    .colab-df-buttons div {\n",
              "      margin-bottom: 4px;\n",
              "    }\n",
              "\n",
              "    [theme=dark] .colab-df-convert {\n",
              "      background-color: #3B4455;\n",
              "      fill: #D2E3FC;\n",
              "    }\n",
              "\n",
              "    [theme=dark] .colab-df-convert:hover {\n",
              "      background-color: #434B5C;\n",
              "      box-shadow: 0px 1px 3px 1px rgba(0, 0, 0, 0.15);\n",
              "      filter: drop-shadow(0px 1px 2px rgba(0, 0, 0, 0.3));\n",
              "      fill: #FFFFFF;\n",
              "    }\n",
              "  </style>\n",
              "\n",
              "    <script>\n",
              "      const buttonEl =\n",
              "        document.querySelector('#df-50b27e78-be27-4a58-808c-bdae5bbe2e37 button.colab-df-convert');\n",
              "      buttonEl.style.display =\n",
              "        google.colab.kernel.accessAllowed ? 'block' : 'none';\n",
              "\n",
              "      async function convertToInteractive(key) {\n",
              "        const element = document.querySelector('#df-50b27e78-be27-4a58-808c-bdae5bbe2e37');\n",
              "        const dataTable =\n",
              "          await google.colab.kernel.invokeFunction('convertToInteractive',\n",
              "                                                    [key], {});\n",
              "        if (!dataTable) return;\n",
              "\n",
              "        const docLinkHtml = 'Like what you see? Visit the ' +\n",
              "          '<a target=\"_blank\" href=https://colab.research.google.com/notebooks/data_table.ipynb>data table notebook</a>'\n",
              "          + ' to learn more about interactive tables.';\n",
              "        element.innerHTML = '';\n",
              "        dataTable['output_type'] = 'display_data';\n",
              "        await google.colab.output.renderOutput(dataTable, element);\n",
              "        const docLink = document.createElement('div');\n",
              "        docLink.innerHTML = docLinkHtml;\n",
              "        element.appendChild(docLink);\n",
              "      }\n",
              "    </script>\n",
              "  </div>\n",
              "\n",
              "\n",
              "<div id=\"df-1fc9e77c-b224-4dc4-89ef-ad7a38ef56b7\">\n",
              "  <button class=\"colab-df-quickchart\" onclick=\"quickchart('df-1fc9e77c-b224-4dc4-89ef-ad7a38ef56b7')\"\n",
              "            title=\"Suggest charts.\"\n",
              "            style=\"display:none;\">\n",
              "\n",
              "<svg xmlns=\"http://www.w3.org/2000/svg\" height=\"24px\"viewBox=\"0 0 24 24\"\n",
              "     width=\"24px\">\n",
              "    <g>\n",
              "        <path d=\"M19 3H5c-1.1 0-2 .9-2 2v14c0 1.1.9 2 2 2h14c1.1 0 2-.9 2-2V5c0-1.1-.9-2-2-2zM9 17H7v-7h2v7zm4 0h-2V7h2v10zm4 0h-2v-4h2v4z\"/>\n",
              "    </g>\n",
              "</svg>\n",
              "  </button>\n",
              "\n",
              "<style>\n",
              "  .colab-df-quickchart {\n",
              "      --bg-color: #E8F0FE;\n",
              "      --fill-color: #1967D2;\n",
              "      --hover-bg-color: #E2EBFA;\n",
              "      --hover-fill-color: #174EA6;\n",
              "      --disabled-fill-color: #AAA;\n",
              "      --disabled-bg-color: #DDD;\n",
              "  }\n",
              "\n",
              "  [theme=dark] .colab-df-quickchart {\n",
              "      --bg-color: #3B4455;\n",
              "      --fill-color: #D2E3FC;\n",
              "      --hover-bg-color: #434B5C;\n",
              "      --hover-fill-color: #FFFFFF;\n",
              "      --disabled-bg-color: #3B4455;\n",
              "      --disabled-fill-color: #666;\n",
              "  }\n",
              "\n",
              "  .colab-df-quickchart {\n",
              "    background-color: var(--bg-color);\n",
              "    border: none;\n",
              "    border-radius: 50%;\n",
              "    cursor: pointer;\n",
              "    display: none;\n",
              "    fill: var(--fill-color);\n",
              "    height: 32px;\n",
              "    padding: 0;\n",
              "    width: 32px;\n",
              "  }\n",
              "\n",
              "  .colab-df-quickchart:hover {\n",
              "    background-color: var(--hover-bg-color);\n",
              "    box-shadow: 0 1px 2px rgba(60, 64, 67, 0.3), 0 1px 3px 1px rgba(60, 64, 67, 0.15);\n",
              "    fill: var(--button-hover-fill-color);\n",
              "  }\n",
              "\n",
              "  .colab-df-quickchart-complete:disabled,\n",
              "  .colab-df-quickchart-complete:disabled:hover {\n",
              "    background-color: var(--disabled-bg-color);\n",
              "    fill: var(--disabled-fill-color);\n",
              "    box-shadow: none;\n",
              "  }\n",
              "\n",
              "  .colab-df-spinner {\n",
              "    border: 2px solid var(--fill-color);\n",
              "    border-color: transparent;\n",
              "    border-bottom-color: var(--fill-color);\n",
              "    animation:\n",
              "      spin 1s steps(1) infinite;\n",
              "  }\n",
              "\n",
              "  @keyframes spin {\n",
              "    0% {\n",
              "      border-color: transparent;\n",
              "      border-bottom-color: var(--fill-color);\n",
              "      border-left-color: var(--fill-color);\n",
              "    }\n",
              "    20% {\n",
              "      border-color: transparent;\n",
              "      border-left-color: var(--fill-color);\n",
              "      border-top-color: var(--fill-color);\n",
              "    }\n",
              "    30% {\n",
              "      border-color: transparent;\n",
              "      border-left-color: var(--fill-color);\n",
              "      border-top-color: var(--fill-color);\n",
              "      border-right-color: var(--fill-color);\n",
              "    }\n",
              "    40% {\n",
              "      border-color: transparent;\n",
              "      border-right-color: var(--fill-color);\n",
              "      border-top-color: var(--fill-color);\n",
              "    }\n",
              "    60% {\n",
              "      border-color: transparent;\n",
              "      border-right-color: var(--fill-color);\n",
              "    }\n",
              "    80% {\n",
              "      border-color: transparent;\n",
              "      border-right-color: var(--fill-color);\n",
              "      border-bottom-color: var(--fill-color);\n",
              "    }\n",
              "    90% {\n",
              "      border-color: transparent;\n",
              "      border-bottom-color: var(--fill-color);\n",
              "    }\n",
              "  }\n",
              "</style>\n",
              "\n",
              "  <script>\n",
              "    async function quickchart(key) {\n",
              "      const quickchartButtonEl =\n",
              "        document.querySelector('#' + key + ' button');\n",
              "      quickchartButtonEl.disabled = true;  // To prevent multiple clicks.\n",
              "      quickchartButtonEl.classList.add('colab-df-spinner');\n",
              "      try {\n",
              "        const charts = await google.colab.kernel.invokeFunction(\n",
              "            'suggestCharts', [key], {});\n",
              "      } catch (error) {\n",
              "        console.error('Error during call to suggestCharts:', error);\n",
              "      }\n",
              "      quickchartButtonEl.classList.remove('colab-df-spinner');\n",
              "      quickchartButtonEl.classList.add('colab-df-quickchart-complete');\n",
              "    }\n",
              "    (() => {\n",
              "      let quickchartButtonEl =\n",
              "        document.querySelector('#df-1fc9e77c-b224-4dc4-89ef-ad7a38ef56b7 button');\n",
              "      quickchartButtonEl.style.display =\n",
              "        google.colab.kernel.accessAllowed ? 'block' : 'none';\n",
              "    })();\n",
              "  </script>\n",
              "</div>\n",
              "    </div>\n",
              "  </div>\n"
            ]
          },
          "metadata": {},
          "execution_count": 7
        }
      ]
    },
    {
      "cell_type": "code",
      "source": [
        "from google.colab import files\n",
        "GT = files.upload()"
      ],
      "metadata": {
        "colab": {
          "base_uri": "https://localhost:8080/",
          "height": 128
        },
        "id": "wuPEOZ7ZChnu",
        "outputId": "994f4c54-b24e-4418-c957-cef17df00eae"
      },
      "execution_count": 70,
      "outputs": [
        {
          "output_type": "stream",
          "name": "stderr",
          "text": [
            "/usr/local/lib/python3.10/dist-packages/ipykernel/ipkernel.py:283: DeprecationWarning: `should_run_async` will not call `transform_cell` automatically in the future. Please pass the result to `transformed_cell` argument and any exception that happen during thetransform in `preprocessing_exc_tuple` in IPython 7.17 and above.\n",
            "  and should_run_async(code)\n"
          ]
        },
        {
          "output_type": "display_data",
          "data": {
            "text/plain": [
              "<IPython.core.display.HTML object>"
            ],
            "text/html": [
              "\n",
              "     <input type=\"file\" id=\"files-1d0a715c-b076-466d-b616-024dde36f05b\" name=\"files[]\" multiple disabled\n",
              "        style=\"border:none\" />\n",
              "     <output id=\"result-1d0a715c-b076-466d-b616-024dde36f05b\">\n",
              "      Upload widget is only available when the cell has been executed in the\n",
              "      current browser session. Please rerun this cell to enable.\n",
              "      </output>\n",
              "      <script>// Copyright 2017 Google LLC\n",
              "//\n",
              "// Licensed under the Apache License, Version 2.0 (the \"License\");\n",
              "// you may not use this file except in compliance with the License.\n",
              "// You may obtain a copy of the License at\n",
              "//\n",
              "//      http://www.apache.org/licenses/LICENSE-2.0\n",
              "//\n",
              "// Unless required by applicable law or agreed to in writing, software\n",
              "// distributed under the License is distributed on an \"AS IS\" BASIS,\n",
              "// WITHOUT WARRANTIES OR CONDITIONS OF ANY KIND, either express or implied.\n",
              "// See the License for the specific language governing permissions and\n",
              "// limitations under the License.\n",
              "\n",
              "/**\n",
              " * @fileoverview Helpers for google.colab Python module.\n",
              " */\n",
              "(function(scope) {\n",
              "function span(text, styleAttributes = {}) {\n",
              "  const element = document.createElement('span');\n",
              "  element.textContent = text;\n",
              "  for (const key of Object.keys(styleAttributes)) {\n",
              "    element.style[key] = styleAttributes[key];\n",
              "  }\n",
              "  return element;\n",
              "}\n",
              "\n",
              "// Max number of bytes which will be uploaded at a time.\n",
              "const MAX_PAYLOAD_SIZE = 100 * 1024;\n",
              "\n",
              "function _uploadFiles(inputId, outputId) {\n",
              "  const steps = uploadFilesStep(inputId, outputId);\n",
              "  const outputElement = document.getElementById(outputId);\n",
              "  // Cache steps on the outputElement to make it available for the next call\n",
              "  // to uploadFilesContinue from Python.\n",
              "  outputElement.steps = steps;\n",
              "\n",
              "  return _uploadFilesContinue(outputId);\n",
              "}\n",
              "\n",
              "// This is roughly an async generator (not supported in the browser yet),\n",
              "// where there are multiple asynchronous steps and the Python side is going\n",
              "// to poll for completion of each step.\n",
              "// This uses a Promise to block the python side on completion of each step,\n",
              "// then passes the result of the previous step as the input to the next step.\n",
              "function _uploadFilesContinue(outputId) {\n",
              "  const outputElement = document.getElementById(outputId);\n",
              "  const steps = outputElement.steps;\n",
              "\n",
              "  const next = steps.next(outputElement.lastPromiseValue);\n",
              "  return Promise.resolve(next.value.promise).then((value) => {\n",
              "    // Cache the last promise value to make it available to the next\n",
              "    // step of the generator.\n",
              "    outputElement.lastPromiseValue = value;\n",
              "    return next.value.response;\n",
              "  });\n",
              "}\n",
              "\n",
              "/**\n",
              " * Generator function which is called between each async step of the upload\n",
              " * process.\n",
              " * @param {string} inputId Element ID of the input file picker element.\n",
              " * @param {string} outputId Element ID of the output display.\n",
              " * @return {!Iterable<!Object>} Iterable of next steps.\n",
              " */\n",
              "function* uploadFilesStep(inputId, outputId) {\n",
              "  const inputElement = document.getElementById(inputId);\n",
              "  inputElement.disabled = false;\n",
              "\n",
              "  const outputElement = document.getElementById(outputId);\n",
              "  outputElement.innerHTML = '';\n",
              "\n",
              "  const pickedPromise = new Promise((resolve) => {\n",
              "    inputElement.addEventListener('change', (e) => {\n",
              "      resolve(e.target.files);\n",
              "    });\n",
              "  });\n",
              "\n",
              "  const cancel = document.createElement('button');\n",
              "  inputElement.parentElement.appendChild(cancel);\n",
              "  cancel.textContent = 'Cancel upload';\n",
              "  const cancelPromise = new Promise((resolve) => {\n",
              "    cancel.onclick = () => {\n",
              "      resolve(null);\n",
              "    };\n",
              "  });\n",
              "\n",
              "  // Wait for the user to pick the files.\n",
              "  const files = yield {\n",
              "    promise: Promise.race([pickedPromise, cancelPromise]),\n",
              "    response: {\n",
              "      action: 'starting',\n",
              "    }\n",
              "  };\n",
              "\n",
              "  cancel.remove();\n",
              "\n",
              "  // Disable the input element since further picks are not allowed.\n",
              "  inputElement.disabled = true;\n",
              "\n",
              "  if (!files) {\n",
              "    return {\n",
              "      response: {\n",
              "        action: 'complete',\n",
              "      }\n",
              "    };\n",
              "  }\n",
              "\n",
              "  for (const file of files) {\n",
              "    const li = document.createElement('li');\n",
              "    li.append(span(file.name, {fontWeight: 'bold'}));\n",
              "    li.append(span(\n",
              "        `(${file.type || 'n/a'}) - ${file.size} bytes, ` +\n",
              "        `last modified: ${\n",
              "            file.lastModifiedDate ? file.lastModifiedDate.toLocaleDateString() :\n",
              "                                    'n/a'} - `));\n",
              "    const percent = span('0% done');\n",
              "    li.appendChild(percent);\n",
              "\n",
              "    outputElement.appendChild(li);\n",
              "\n",
              "    const fileDataPromise = new Promise((resolve) => {\n",
              "      const reader = new FileReader();\n",
              "      reader.onload = (e) => {\n",
              "        resolve(e.target.result);\n",
              "      };\n",
              "      reader.readAsArrayBuffer(file);\n",
              "    });\n",
              "    // Wait for the data to be ready.\n",
              "    let fileData = yield {\n",
              "      promise: fileDataPromise,\n",
              "      response: {\n",
              "        action: 'continue',\n",
              "      }\n",
              "    };\n",
              "\n",
              "    // Use a chunked sending to avoid message size limits. See b/62115660.\n",
              "    let position = 0;\n",
              "    do {\n",
              "      const length = Math.min(fileData.byteLength - position, MAX_PAYLOAD_SIZE);\n",
              "      const chunk = new Uint8Array(fileData, position, length);\n",
              "      position += length;\n",
              "\n",
              "      const base64 = btoa(String.fromCharCode.apply(null, chunk));\n",
              "      yield {\n",
              "        response: {\n",
              "          action: 'append',\n",
              "          file: file.name,\n",
              "          data: base64,\n",
              "        },\n",
              "      };\n",
              "\n",
              "      let percentDone = fileData.byteLength === 0 ?\n",
              "          100 :\n",
              "          Math.round((position / fileData.byteLength) * 100);\n",
              "      percent.textContent = `${percentDone}% done`;\n",
              "\n",
              "    } while (position < fileData.byteLength);\n",
              "  }\n",
              "\n",
              "  // All done.\n",
              "  yield {\n",
              "    response: {\n",
              "      action: 'complete',\n",
              "    }\n",
              "  };\n",
              "}\n",
              "\n",
              "scope.google = scope.google || {};\n",
              "scope.google.colab = scope.google.colab || {};\n",
              "scope.google.colab._files = {\n",
              "  _uploadFiles,\n",
              "  _uploadFilesContinue,\n",
              "};\n",
              "})(self);\n",
              "</script> "
            ]
          },
          "metadata": {}
        },
        {
          "output_type": "stream",
          "name": "stdout",
          "text": [
            "Saving GT_filtered_for_ML.csv to GT_filtered_for_ML.csv\n"
          ]
        }
      ]
    },
    {
      "cell_type": "code",
      "source": [
        "filtered_GT_ML = pd.read_csv(io.BytesIO(GT['GT_filtered_for_ML.csv']), sep=\";\")\n",
        "filtered_GT_ML"
      ],
      "metadata": {
        "colab": {
          "base_uri": "https://localhost:8080/",
          "height": 478
        },
        "id": "pgAtpfZxCUBA",
        "outputId": "297eaa19-fd2d-4cac-ccbc-0fc5751ad283"
      },
      "execution_count": 72,
      "outputs": [
        {
          "output_type": "stream",
          "name": "stderr",
          "text": [
            "/usr/local/lib/python3.10/dist-packages/ipykernel/ipkernel.py:283: DeprecationWarning: `should_run_async` will not call `transform_cell` automatically in the future. Please pass the result to `transformed_cell` argument and any exception that happen during thetransform in `preprocessing_exc_tuple` in IPython 7.17 and above.\n",
            "  and should_run_async(code)\n"
          ]
        },
        {
          "output_type": "execute_result",
          "data": {
            "text/plain": [
              "     Unnamed: 0   CHROM_x      POS ID_x REF_x ALT_x     QUAL_x FILTER_x\n",
              "0             0  AE017196     3915    .     C     T  54123.500     PASS\n",
              "1             1  AE017196    10452    .     T     G  29524.400     PASS\n",
              "2             2  AE017196    12060    .     C     T   1109.260     PASS\n",
              "3             4  AE017196    12863    .     T     C   1248.810     PASS\n",
              "4             6  AE017196    13072    .     T     C   2371.530     PASS\n",
              "..          ...       ...      ...  ...   ...   ...        ...      ...\n",
              "701         827  AE017196  1257121    .     C     T   8260.820     PASS\n",
              "702         828  AE017196  1258432    .     A     G   1014.820     PASS\n",
              "703         829  AE017196  1260309    .     C     T  10111.700     PASS\n",
              "704         830  AE017196  1261032    .     A     T    959.379     PASS\n",
              "705         831  AE017196  1262019    .     G     A   4895.360     PASS\n",
              "\n",
              "[706 rows x 8 columns]"
            ],
            "text/html": [
              "\n",
              "  <div id=\"df-b74489e3-3b12-4ea4-8a0d-92190260ed78\" class=\"colab-df-container\">\n",
              "    <div>\n",
              "<style scoped>\n",
              "    .dataframe tbody tr th:only-of-type {\n",
              "        vertical-align: middle;\n",
              "    }\n",
              "\n",
              "    .dataframe tbody tr th {\n",
              "        vertical-align: top;\n",
              "    }\n",
              "\n",
              "    .dataframe thead th {\n",
              "        text-align: right;\n",
              "    }\n",
              "</style>\n",
              "<table border=\"1\" class=\"dataframe\">\n",
              "  <thead>\n",
              "    <tr style=\"text-align: right;\">\n",
              "      <th></th>\n",
              "      <th>Unnamed: 0</th>\n",
              "      <th>CHROM_x</th>\n",
              "      <th>POS</th>\n",
              "      <th>ID_x</th>\n",
              "      <th>REF_x</th>\n",
              "      <th>ALT_x</th>\n",
              "      <th>QUAL_x</th>\n",
              "      <th>FILTER_x</th>\n",
              "    </tr>\n",
              "  </thead>\n",
              "  <tbody>\n",
              "    <tr>\n",
              "      <th>0</th>\n",
              "      <td>0</td>\n",
              "      <td>AE017196</td>\n",
              "      <td>3915</td>\n",
              "      <td>.</td>\n",
              "      <td>C</td>\n",
              "      <td>T</td>\n",
              "      <td>54123.500</td>\n",
              "      <td>PASS</td>\n",
              "    </tr>\n",
              "    <tr>\n",
              "      <th>1</th>\n",
              "      <td>1</td>\n",
              "      <td>AE017196</td>\n",
              "      <td>10452</td>\n",
              "      <td>.</td>\n",
              "      <td>T</td>\n",
              "      <td>G</td>\n",
              "      <td>29524.400</td>\n",
              "      <td>PASS</td>\n",
              "    </tr>\n",
              "    <tr>\n",
              "      <th>2</th>\n",
              "      <td>2</td>\n",
              "      <td>AE017196</td>\n",
              "      <td>12060</td>\n",
              "      <td>.</td>\n",
              "      <td>C</td>\n",
              "      <td>T</td>\n",
              "      <td>1109.260</td>\n",
              "      <td>PASS</td>\n",
              "    </tr>\n",
              "    <tr>\n",
              "      <th>3</th>\n",
              "      <td>4</td>\n",
              "      <td>AE017196</td>\n",
              "      <td>12863</td>\n",
              "      <td>.</td>\n",
              "      <td>T</td>\n",
              "      <td>C</td>\n",
              "      <td>1248.810</td>\n",
              "      <td>PASS</td>\n",
              "    </tr>\n",
              "    <tr>\n",
              "      <th>4</th>\n",
              "      <td>6</td>\n",
              "      <td>AE017196</td>\n",
              "      <td>13072</td>\n",
              "      <td>.</td>\n",
              "      <td>T</td>\n",
              "      <td>C</td>\n",
              "      <td>2371.530</td>\n",
              "      <td>PASS</td>\n",
              "    </tr>\n",
              "    <tr>\n",
              "      <th>...</th>\n",
              "      <td>...</td>\n",
              "      <td>...</td>\n",
              "      <td>...</td>\n",
              "      <td>...</td>\n",
              "      <td>...</td>\n",
              "      <td>...</td>\n",
              "      <td>...</td>\n",
              "      <td>...</td>\n",
              "    </tr>\n",
              "    <tr>\n",
              "      <th>701</th>\n",
              "      <td>827</td>\n",
              "      <td>AE017196</td>\n",
              "      <td>1257121</td>\n",
              "      <td>.</td>\n",
              "      <td>C</td>\n",
              "      <td>T</td>\n",
              "      <td>8260.820</td>\n",
              "      <td>PASS</td>\n",
              "    </tr>\n",
              "    <tr>\n",
              "      <th>702</th>\n",
              "      <td>828</td>\n",
              "      <td>AE017196</td>\n",
              "      <td>1258432</td>\n",
              "      <td>.</td>\n",
              "      <td>A</td>\n",
              "      <td>G</td>\n",
              "      <td>1014.820</td>\n",
              "      <td>PASS</td>\n",
              "    </tr>\n",
              "    <tr>\n",
              "      <th>703</th>\n",
              "      <td>829</td>\n",
              "      <td>AE017196</td>\n",
              "      <td>1260309</td>\n",
              "      <td>.</td>\n",
              "      <td>C</td>\n",
              "      <td>T</td>\n",
              "      <td>10111.700</td>\n",
              "      <td>PASS</td>\n",
              "    </tr>\n",
              "    <tr>\n",
              "      <th>704</th>\n",
              "      <td>830</td>\n",
              "      <td>AE017196</td>\n",
              "      <td>1261032</td>\n",
              "      <td>.</td>\n",
              "      <td>A</td>\n",
              "      <td>T</td>\n",
              "      <td>959.379</td>\n",
              "      <td>PASS</td>\n",
              "    </tr>\n",
              "    <tr>\n",
              "      <th>705</th>\n",
              "      <td>831</td>\n",
              "      <td>AE017196</td>\n",
              "      <td>1262019</td>\n",
              "      <td>.</td>\n",
              "      <td>G</td>\n",
              "      <td>A</td>\n",
              "      <td>4895.360</td>\n",
              "      <td>PASS</td>\n",
              "    </tr>\n",
              "  </tbody>\n",
              "</table>\n",
              "<p>706 rows × 8 columns</p>\n",
              "</div>\n",
              "    <div class=\"colab-df-buttons\">\n",
              "\n",
              "  <div class=\"colab-df-container\">\n",
              "    <button class=\"colab-df-convert\" onclick=\"convertToInteractive('df-b74489e3-3b12-4ea4-8a0d-92190260ed78')\"\n",
              "            title=\"Convert this dataframe to an interactive table.\"\n",
              "            style=\"display:none;\">\n",
              "\n",
              "  <svg xmlns=\"http://www.w3.org/2000/svg\" height=\"24px\" viewBox=\"0 -960 960 960\">\n",
              "    <path d=\"M120-120v-720h720v720H120Zm60-500h600v-160H180v160Zm220 220h160v-160H400v160Zm0 220h160v-160H400v160ZM180-400h160v-160H180v160Zm440 0h160v-160H620v160ZM180-180h160v-160H180v160Zm440 0h160v-160H620v160Z\"/>\n",
              "  </svg>\n",
              "    </button>\n",
              "\n",
              "  <style>\n",
              "    .colab-df-container {\n",
              "      display:flex;\n",
              "      gap: 12px;\n",
              "    }\n",
              "\n",
              "    .colab-df-convert {\n",
              "      background-color: #E8F0FE;\n",
              "      border: none;\n",
              "      border-radius: 50%;\n",
              "      cursor: pointer;\n",
              "      display: none;\n",
              "      fill: #1967D2;\n",
              "      height: 32px;\n",
              "      padding: 0 0 0 0;\n",
              "      width: 32px;\n",
              "    }\n",
              "\n",
              "    .colab-df-convert:hover {\n",
              "      background-color: #E2EBFA;\n",
              "      box-shadow: 0px 1px 2px rgba(60, 64, 67, 0.3), 0px 1px 3px 1px rgba(60, 64, 67, 0.15);\n",
              "      fill: #174EA6;\n",
              "    }\n",
              "\n",
              "    .colab-df-buttons div {\n",
              "      margin-bottom: 4px;\n",
              "    }\n",
              "\n",
              "    [theme=dark] .colab-df-convert {\n",
              "      background-color: #3B4455;\n",
              "      fill: #D2E3FC;\n",
              "    }\n",
              "\n",
              "    [theme=dark] .colab-df-convert:hover {\n",
              "      background-color: #434B5C;\n",
              "      box-shadow: 0px 1px 3px 1px rgba(0, 0, 0, 0.15);\n",
              "      filter: drop-shadow(0px 1px 2px rgba(0, 0, 0, 0.3));\n",
              "      fill: #FFFFFF;\n",
              "    }\n",
              "  </style>\n",
              "\n",
              "    <script>\n",
              "      const buttonEl =\n",
              "        document.querySelector('#df-b74489e3-3b12-4ea4-8a0d-92190260ed78 button.colab-df-convert');\n",
              "      buttonEl.style.display =\n",
              "        google.colab.kernel.accessAllowed ? 'block' : 'none';\n",
              "\n",
              "      async function convertToInteractive(key) {\n",
              "        const element = document.querySelector('#df-b74489e3-3b12-4ea4-8a0d-92190260ed78');\n",
              "        const dataTable =\n",
              "          await google.colab.kernel.invokeFunction('convertToInteractive',\n",
              "                                                    [key], {});\n",
              "        if (!dataTable) return;\n",
              "\n",
              "        const docLinkHtml = 'Like what you see? Visit the ' +\n",
              "          '<a target=\"_blank\" href=https://colab.research.google.com/notebooks/data_table.ipynb>data table notebook</a>'\n",
              "          + ' to learn more about interactive tables.';\n",
              "        element.innerHTML = '';\n",
              "        dataTable['output_type'] = 'display_data';\n",
              "        await google.colab.output.renderOutput(dataTable, element);\n",
              "        const docLink = document.createElement('div');\n",
              "        docLink.innerHTML = docLinkHtml;\n",
              "        element.appendChild(docLink);\n",
              "      }\n",
              "    </script>\n",
              "  </div>\n",
              "\n",
              "\n",
              "<div id=\"df-db326ca3-a514-471f-8bd5-405b9f954f3e\">\n",
              "  <button class=\"colab-df-quickchart\" onclick=\"quickchart('df-db326ca3-a514-471f-8bd5-405b9f954f3e')\"\n",
              "            title=\"Suggest charts.\"\n",
              "            style=\"display:none;\">\n",
              "\n",
              "<svg xmlns=\"http://www.w3.org/2000/svg\" height=\"24px\"viewBox=\"0 0 24 24\"\n",
              "     width=\"24px\">\n",
              "    <g>\n",
              "        <path d=\"M19 3H5c-1.1 0-2 .9-2 2v14c0 1.1.9 2 2 2h14c1.1 0 2-.9 2-2V5c0-1.1-.9-2-2-2zM9 17H7v-7h2v7zm4 0h-2V7h2v10zm4 0h-2v-4h2v4z\"/>\n",
              "    </g>\n",
              "</svg>\n",
              "  </button>\n",
              "\n",
              "<style>\n",
              "  .colab-df-quickchart {\n",
              "      --bg-color: #E8F0FE;\n",
              "      --fill-color: #1967D2;\n",
              "      --hover-bg-color: #E2EBFA;\n",
              "      --hover-fill-color: #174EA6;\n",
              "      --disabled-fill-color: #AAA;\n",
              "      --disabled-bg-color: #DDD;\n",
              "  }\n",
              "\n",
              "  [theme=dark] .colab-df-quickchart {\n",
              "      --bg-color: #3B4455;\n",
              "      --fill-color: #D2E3FC;\n",
              "      --hover-bg-color: #434B5C;\n",
              "      --hover-fill-color: #FFFFFF;\n",
              "      --disabled-bg-color: #3B4455;\n",
              "      --disabled-fill-color: #666;\n",
              "  }\n",
              "\n",
              "  .colab-df-quickchart {\n",
              "    background-color: var(--bg-color);\n",
              "    border: none;\n",
              "    border-radius: 50%;\n",
              "    cursor: pointer;\n",
              "    display: none;\n",
              "    fill: var(--fill-color);\n",
              "    height: 32px;\n",
              "    padding: 0;\n",
              "    width: 32px;\n",
              "  }\n",
              "\n",
              "  .colab-df-quickchart:hover {\n",
              "    background-color: var(--hover-bg-color);\n",
              "    box-shadow: 0 1px 2px rgba(60, 64, 67, 0.3), 0 1px 3px 1px rgba(60, 64, 67, 0.15);\n",
              "    fill: var(--button-hover-fill-color);\n",
              "  }\n",
              "\n",
              "  .colab-df-quickchart-complete:disabled,\n",
              "  .colab-df-quickchart-complete:disabled:hover {\n",
              "    background-color: var(--disabled-bg-color);\n",
              "    fill: var(--disabled-fill-color);\n",
              "    box-shadow: none;\n",
              "  }\n",
              "\n",
              "  .colab-df-spinner {\n",
              "    border: 2px solid var(--fill-color);\n",
              "    border-color: transparent;\n",
              "    border-bottom-color: var(--fill-color);\n",
              "    animation:\n",
              "      spin 1s steps(1) infinite;\n",
              "  }\n",
              "\n",
              "  @keyframes spin {\n",
              "    0% {\n",
              "      border-color: transparent;\n",
              "      border-bottom-color: var(--fill-color);\n",
              "      border-left-color: var(--fill-color);\n",
              "    }\n",
              "    20% {\n",
              "      border-color: transparent;\n",
              "      border-left-color: var(--fill-color);\n",
              "      border-top-color: var(--fill-color);\n",
              "    }\n",
              "    30% {\n",
              "      border-color: transparent;\n",
              "      border-left-color: var(--fill-color);\n",
              "      border-top-color: var(--fill-color);\n",
              "      border-right-color: var(--fill-color);\n",
              "    }\n",
              "    40% {\n",
              "      border-color: transparent;\n",
              "      border-right-color: var(--fill-color);\n",
              "      border-top-color: var(--fill-color);\n",
              "    }\n",
              "    60% {\n",
              "      border-color: transparent;\n",
              "      border-right-color: var(--fill-color);\n",
              "    }\n",
              "    80% {\n",
              "      border-color: transparent;\n",
              "      border-right-color: var(--fill-color);\n",
              "      border-bottom-color: var(--fill-color);\n",
              "    }\n",
              "    90% {\n",
              "      border-color: transparent;\n",
              "      border-bottom-color: var(--fill-color);\n",
              "    }\n",
              "  }\n",
              "</style>\n",
              "\n",
              "  <script>\n",
              "    async function quickchart(key) {\n",
              "      const quickchartButtonEl =\n",
              "        document.querySelector('#' + key + ' button');\n",
              "      quickchartButtonEl.disabled = true;  // To prevent multiple clicks.\n",
              "      quickchartButtonEl.classList.add('colab-df-spinner');\n",
              "      try {\n",
              "        const charts = await google.colab.kernel.invokeFunction(\n",
              "            'suggestCharts', [key], {});\n",
              "      } catch (error) {\n",
              "        console.error('Error during call to suggestCharts:', error);\n",
              "      }\n",
              "      quickchartButtonEl.classList.remove('colab-df-spinner');\n",
              "      quickchartButtonEl.classList.add('colab-df-quickchart-complete');\n",
              "    }\n",
              "    (() => {\n",
              "      let quickchartButtonEl =\n",
              "        document.querySelector('#df-db326ca3-a514-471f-8bd5-405b9f954f3e button');\n",
              "      quickchartButtonEl.style.display =\n",
              "        google.colab.kernel.accessAllowed ? 'block' : 'none';\n",
              "    })();\n",
              "  </script>\n",
              "</div>\n",
              "    </div>\n",
              "  </div>\n"
            ]
          },
          "metadata": {},
          "execution_count": 72
        }
      ]
    },
    {
      "cell_type": "markdown",
      "source": [
        "### Upload datasets"
      ],
      "metadata": {
        "id": "hrtOTUiTSmiR"
      }
    },
    {
      "cell_type": "code",
      "source": [
        "info_cols_min={'TLOD':int}"
      ],
      "metadata": {
        "colab": {
          "base_uri": "https://localhost:8080/"
        },
        "id": "O7Kx7ej5KwaT",
        "outputId": "d0baa99f-688e-4875-aac7-a6c93e601cb9"
      },
      "execution_count": 8,
      "outputs": [
        {
          "output_type": "stream",
          "name": "stderr",
          "text": [
            "/usr/local/lib/python3.10/dist-packages/ipykernel/ipkernel.py:283: DeprecationWarning: `should_run_async` will not call `transform_cell` automatically in the future. Please pass the result to `transformed_cell` argument and any exception that happen during thetransform in `preprocessing_exc_tuple` in IPython 7.17 and above.\n",
            "  and should_run_async(code)\n"
          ]
        }
      ]
    },
    {
      "cell_type": "code",
      "source": [
        "Mutect100 = parse_vcf_mutect('var100_mutect2.vcf', info_cols=None, nrows=20000)\n",
        "Mutect50 = parse_vcf_mutect('var50_mutect2.vcf', info_cols=None, nrows=20000)\n",
        "Mutect40 = parse_vcf_mutect('var40_mutect2.vcf', info_cols=None, nrows=20000)\n",
        "Mutect30 = parse_vcf_mutect('var30_mutect2.vcf', info_cols=None, nrows=20000)\n",
        "Mutect20 = parse_vcf_mutect('var20_mutect2.vcf', info_cols=None, nrows=20000)\n",
        "Mutect10 = parse_vcf_mutect('var10_mutect2.vcf', info_cols=None, nrows=20000)\n",
        "Mutect5 = parse_vcf_mutect('var5_mutect2.vcf', info_cols=None, nrows=20000)\n",
        "Mutect4 = parse_vcf_mutect('var4_mutect2.vcf', info_cols=None, nrows=20000)\n",
        "Mutect3 = parse_vcf_mutect('var3_mutect2.vcf', info_cols=None, nrows=20000)\n",
        "Mutect2 = parse_vcf_mutect('var2_mutect2.vcf', info_cols=None, nrows=20000)\n",
        "Mutect1 = parse_vcf_mutect('var1_mutect2.vcf', info_cols=None, nrows=20000)\n",
        "Mutect05 = parse_vcf_mutect('var05_mutect2.vcf', info_cols=None, nrows=20000)\n",
        "Mutect025 = parse_vcf_mutect('var025_mutect2.vcf', info_cols=None, nrows=20000)"
      ],
      "metadata": {
        "colab": {
          "base_uri": "https://localhost:8080/"
        },
        "id": "hXAcwz55KxfD",
        "outputId": "87fcbdf0-7cbc-4996-daee-ece84e4d721a"
      },
      "execution_count": 79,
      "outputs": [
        {
          "output_type": "stream",
          "name": "stderr",
          "text": [
            "/usr/local/lib/python3.10/dist-packages/ipykernel/ipkernel.py:283: DeprecationWarning: `should_run_async` will not call `transform_cell` automatically in the future. Please pass the result to `transformed_cell` argument and any exception that happen during thetransform in `preprocessing_exc_tuple` in IPython 7.17 and above.\n",
            "  and should_run_async(code)\n"
          ]
        }
      ]
    },
    {
      "cell_type": "code",
      "source": [],
      "metadata": {
        "id": "SfgveKvXJ1Jy"
      },
      "execution_count": null,
      "outputs": []
    },
    {
      "cell_type": "markdown",
      "source": [
        "Check in each variant caller, how many TP are called at 100% freq"
      ],
      "metadata": {
        "id": "km-jO3htPyKt"
      }
    },
    {
      "cell_type": "code",
      "source": [
        "Mutect100 = parse_vcf_mutect('var100_mutect2.vcf', info_cols=None, nrows=20000)"
      ],
      "metadata": {
        "colab": {
          "base_uri": "https://localhost:8080/"
        },
        "id": "Go9AG8sz5QDF",
        "outputId": "20bfc7fb-29e3-4d33-a478-f8b09b62f536"
      },
      "execution_count": 23,
      "outputs": [
        {
          "output_type": "stream",
          "name": "stderr",
          "text": [
            "/usr/local/lib/python3.10/dist-packages/ipykernel/ipkernel.py:283: DeprecationWarning: `should_run_async` will not call `transform_cell` automatically in the future. Please pass the result to `transformed_cell` argument and any exception that happen during thetransform in `preprocessing_exc_tuple` in IPython 7.17 and above.\n",
            "  and should_run_async(code)\n"
          ]
        }
      ]
    },
    {
      "cell_type": "code",
      "source": [
        "Freebayes100 = parse_vcf('var100.vcf', info_cols=None, nrows=20000)"
      ],
      "metadata": {
        "colab": {
          "base_uri": "https://localhost:8080/"
        },
        "id": "zzFmvddaPxlr",
        "outputId": "2ccc00a1-e98d-4826-fe8c-df1ec93a5be0"
      },
      "execution_count": 9,
      "outputs": [
        {
          "output_type": "stream",
          "name": "stderr",
          "text": [
            "/usr/local/lib/python3.10/dist-packages/ipykernel/ipkernel.py:283: DeprecationWarning: `should_run_async` will not call `transform_cell` automatically in the future. Please pass the result to `transformed_cell` argument and any exception that happen during thetransform in `preprocessing_exc_tuple` in IPython 7.17 and above.\n",
            "  and should_run_async(code)\n"
          ]
        }
      ]
    },
    {
      "cell_type": "code",
      "source": [
        "GATK100 = parse_vcf('var100_GATK.vcf', info_cols=None, nrows=20000)"
      ],
      "metadata": {
        "colab": {
          "base_uri": "https://localhost:8080/"
        },
        "id": "iQ6Y_2j3QmyL",
        "outputId": "95e2a09b-fe75-4779-e220-165a40c7cac5"
      },
      "execution_count": 10,
      "outputs": [
        {
          "output_type": "stream",
          "name": "stderr",
          "text": [
            "/usr/local/lib/python3.10/dist-packages/ipykernel/ipkernel.py:283: DeprecationWarning: `should_run_async` will not call `transform_cell` automatically in the future. Please pass the result to `transformed_cell` argument and any exception that happen during thetransform in `preprocessing_exc_tuple` in IPython 7.17 and above.\n",
            "  and should_run_async(code)\n"
          ]
        }
      ]
    },
    {
      "cell_type": "code",
      "source": [
        "GATKp100 = parse_vcf('var100_GATKp.vcf', info_cols=None, nrows=20000)"
      ],
      "metadata": {
        "colab": {
          "base_uri": "https://localhost:8080/"
        },
        "id": "NKEyfHtlQuJ5",
        "outputId": "75b2dd15-8591-4ffd-bac7-070e55d8d813"
      },
      "execution_count": 11,
      "outputs": [
        {
          "output_type": "stream",
          "name": "stderr",
          "text": [
            "/usr/local/lib/python3.10/dist-packages/ipykernel/ipkernel.py:283: DeprecationWarning: `should_run_async` will not call `transform_cell` automatically in the future. Please pass the result to `transformed_cell` argument and any exception that happen during thetransform in `preprocessing_exc_tuple` in IPython 7.17 and above.\n",
            "  and should_run_async(code)\n"
          ]
        }
      ]
    },
    {
      "cell_type": "code",
      "source": [
        "Strelka100 = parse_vcf('variants.vcf', info_cols=None, nrows=20000)"
      ],
      "metadata": {
        "colab": {
          "base_uri": "https://localhost:8080/"
        },
        "id": "nMo9IohIa-ja",
        "outputId": "4f394f11-f4ac-48ea-c6ca-c30f29790182"
      },
      "execution_count": 12,
      "outputs": [
        {
          "output_type": "stream",
          "name": "stderr",
          "text": [
            "/usr/local/lib/python3.10/dist-packages/ipykernel/ipkernel.py:283: DeprecationWarning: `should_run_async` will not call `transform_cell` automatically in the future. Please pass the result to `transformed_cell` argument and any exception that happen during thetransform in `preprocessing_exc_tuple` in IPython 7.17 and above.\n",
            "  and should_run_async(code)\n"
          ]
        }
      ]
    },
    {
      "cell_type": "code",
      "source": [
        "type(Mutect100)"
      ],
      "metadata": {
        "colab": {
          "base_uri": "https://localhost:8080/"
        },
        "id": "VVFxmaZMLCeI",
        "outputId": "21a0c7b3-d4b6-4a09-c5ee-5ca0f85f6bd9"
      },
      "execution_count": 24,
      "outputs": [
        {
          "output_type": "stream",
          "name": "stderr",
          "text": [
            "/usr/local/lib/python3.10/dist-packages/ipykernel/ipkernel.py:283: DeprecationWarning: `should_run_async` will not call `transform_cell` automatically in the future. Please pass the result to `transformed_cell` argument and any exception that happen during thetransform in `preprocessing_exc_tuple` in IPython 7.17 and above.\n",
            "  and should_run_async(code)\n"
          ]
        },
        {
          "output_type": "execute_result",
          "data": {
            "text/plain": [
              "pandas.core.frame.DataFrame"
            ]
          },
          "metadata": {},
          "execution_count": 24
        }
      ]
    },
    {
      "cell_type": "code",
      "source": [
        "#vcf_df_GT"
      ],
      "metadata": {
        "colab": {
          "base_uri": "https://localhost:8080/"
        },
        "id": "HMm7efQi6rb9",
        "outputId": "34832b51-e016-4a11-fc51-e2724a0f276d"
      },
      "execution_count": 34,
      "outputs": [
        {
          "output_type": "stream",
          "name": "stderr",
          "text": [
            "/usr/local/lib/python3.10/dist-packages/ipykernel/ipkernel.py:283: DeprecationWarning: `should_run_async` will not call `transform_cell` automatically in the future. Please pass the result to `transformed_cell` argument and any exception that happen during thetransform in `preprocessing_exc_tuple` in IPython 7.17 and above.\n",
            "  and should_run_async(code)\n"
          ]
        }
      ]
    },
    {
      "cell_type": "markdown",
      "source": [],
      "metadata": {
        "id": "fsGb5jVS6vxM"
      }
    },
    {
      "cell_type": "markdown",
      "source": [
        "### Confusion matrix"
      ],
      "metadata": {
        "id": "8gXplFDFe-8h"
      }
    },
    {
      "cell_type": "code",
      "source": [
        "Mutect100_CF=confusion_matrix(Mutect100, vcf_df_GT, genome_size=1267843) #1267843 genome size\n",
        "Mutect100_CF"
      ],
      "metadata": {
        "colab": {
          "base_uri": "https://localhost:8080/"
        },
        "id": "wy67KK5tNdcL",
        "outputId": "6de0b5f9-7c87-4cb2-efc2-29c9cbc94e0e"
      },
      "execution_count": 25,
      "outputs": [
        {
          "output_type": "stream",
          "name": "stderr",
          "text": [
            "/usr/local/lib/python3.10/dist-packages/ipykernel/ipkernel.py:283: DeprecationWarning: `should_run_async` will not call `transform_cell` automatically in the future. Please pass the result to `transformed_cell` argument and any exception that happen during thetransform in `preprocessing_exc_tuple` in IPython 7.17 and above.\n",
            "  and should_run_async(code)\n"
          ]
        },
        {
          "output_type": "execute_result",
          "data": {
            "text/plain": [
              "array([[6.910000e+02, 2.590000e+02],\n",
              "       [1.370000e+02, 1.267011e+06]])"
            ]
          },
          "metadata": {},
          "execution_count": 25
        }
      ]
    },
    {
      "cell_type": "code",
      "source": [
        "Freebayes100_CF=confusion_matrix(Freebayes100, vcf_df_GT, genome_size=1267843) #1267843 genome size\n",
        "Freebayes100_CF"
      ],
      "metadata": {
        "colab": {
          "base_uri": "https://localhost:8080/"
        },
        "id": "G9IQ8ysHQM6C",
        "outputId": "84f5dd80-7020-4f73-99de-a31267860ff6"
      },
      "execution_count": 30,
      "outputs": [
        {
          "output_type": "stream",
          "name": "stderr",
          "text": [
            "/usr/local/lib/python3.10/dist-packages/ipykernel/ipkernel.py:283: DeprecationWarning: `should_run_async` will not call `transform_cell` automatically in the future. Please pass the result to `transformed_cell` argument and any exception that happen during thetransform in `preprocessing_exc_tuple` in IPython 7.17 and above.\n",
            "  and should_run_async(code)\n"
          ]
        },
        {
          "output_type": "execute_result",
          "data": {
            "text/plain": [
              "array([[6.800000e+02, 7.900000e+01],\n",
              "       [1.480000e+02, 1.267011e+06]])"
            ]
          },
          "metadata": {},
          "execution_count": 30
        }
      ]
    },
    {
      "cell_type": "code",
      "source": [
        "GATK100_CF=confusion_matrix(GATK100, vcf_df_GT, genome_size=1267843) #1267843 genome size\n",
        "GATK100_CF"
      ],
      "metadata": {
        "colab": {
          "base_uri": "https://localhost:8080/"
        },
        "id": "f9bbc5QxaDAd",
        "outputId": "c85a1c11-d365-4996-d481-ecfb8cc26ebd"
      },
      "execution_count": 31,
      "outputs": [
        {
          "output_type": "stream",
          "name": "stderr",
          "text": [
            "/usr/local/lib/python3.10/dist-packages/ipykernel/ipkernel.py:283: DeprecationWarning: `should_run_async` will not call `transform_cell` automatically in the future. Please pass the result to `transformed_cell` argument and any exception that happen during thetransform in `preprocessing_exc_tuple` in IPython 7.17 and above.\n",
            "  and should_run_async(code)\n"
          ]
        },
        {
          "output_type": "execute_result",
          "data": {
            "text/plain": [
              "array([[6.890000e+02, 1.000000e+02],\n",
              "       [1.390000e+02, 1.267011e+06]])"
            ]
          },
          "metadata": {},
          "execution_count": 31
        }
      ]
    },
    {
      "cell_type": "code",
      "source": [
        "GATKp100_CF=confusion_matrix(GATKp100, vcf_df_GT, genome_size=1267843) #1267843 genome size\n",
        "GATKp100_CF"
      ],
      "metadata": {
        "colab": {
          "base_uri": "https://localhost:8080/"
        },
        "id": "yvUTaJPTaN5a",
        "outputId": "d24c643d-cb23-4db8-9605-6320399664b3"
      },
      "execution_count": 27,
      "outputs": [
        {
          "output_type": "stream",
          "name": "stderr",
          "text": [
            "/usr/local/lib/python3.10/dist-packages/ipykernel/ipkernel.py:283: DeprecationWarning: `should_run_async` will not call `transform_cell` automatically in the future. Please pass the result to `transformed_cell` argument and any exception that happen during thetransform in `preprocessing_exc_tuple` in IPython 7.17 and above.\n",
            "  and should_run_async(code)\n"
          ]
        },
        {
          "output_type": "execute_result",
          "data": {
            "text/plain": [
              "array([[6.920000e+02, 2.870000e+02],\n",
              "       [1.360000e+02, 1.267011e+06]])"
            ]
          },
          "metadata": {},
          "execution_count": 27
        }
      ]
    },
    {
      "cell_type": "code",
      "source": [
        "Strelka100_CF=confusion_matrix(Strelka100, vcf_df_GT, genome_size=1267843) #1267843 genome size\n",
        "Strelka100_CF"
      ],
      "metadata": {
        "colab": {
          "base_uri": "https://localhost:8080/"
        },
        "id": "vUrUZzA3baOy",
        "outputId": "11252757-4db1-409e-a3c9-0b9079e84975"
      },
      "execution_count": 28,
      "outputs": [
        {
          "output_type": "stream",
          "name": "stderr",
          "text": [
            "/usr/local/lib/python3.10/dist-packages/ipykernel/ipkernel.py:283: DeprecationWarning: `should_run_async` will not call `transform_cell` automatically in the future. Please pass the result to `transformed_cell` argument and any exception that happen during thetransform in `preprocessing_exc_tuple` in IPython 7.17 and above.\n",
            "  and should_run_async(code)\n"
          ]
        },
        {
          "output_type": "execute_result",
          "data": {
            "text/plain": [
              "array([[6.980000e+02, 3.000000e+03],\n",
              "       [1.300000e+02, 1.267011e+06]])"
            ]
          },
          "metadata": {},
          "execution_count": 28
        }
      ]
    },
    {
      "cell_type": "markdown",
      "source": [
        "Make a filtered GT, variants that were never picked up in 100% in any of the callers should be filterd out"
      ],
      "metadata": {
        "id": "x7Qf_Xplb5o5"
      }
    },
    {
      "cell_type": "code",
      "source": [
        "dfs = [vcf_df_GT, Freebayes100, Mutect100, GATK100, GATKp100, Strelka100]"
      ],
      "metadata": {
        "colab": {
          "base_uri": "https://localhost:8080/"
        },
        "id": "hm5NyeUOb5CY",
        "outputId": "6e0435b4-1758-4faa-f5e2-715517eef103"
      },
      "execution_count": 51,
      "outputs": [
        {
          "output_type": "stream",
          "name": "stderr",
          "text": [
            "/usr/local/lib/python3.10/dist-packages/ipykernel/ipkernel.py:283: DeprecationWarning: `should_run_async` will not call `transform_cell` automatically in the future. Please pass the result to `transformed_cell` argument and any exception that happen during thetransform in `preprocessing_exc_tuple` in IPython 7.17 and above.\n",
            "  and should_run_async(code)\n"
          ]
        }
      ]
    },
    {
      "cell_type": "code",
      "source": [
        "import functools as ft\n",
        "df_final = ft.reduce(lambda left, right: pd.merge(left, right, on='POS'), dfs)"
      ],
      "metadata": {
        "colab": {
          "base_uri": "https://localhost:8080/"
        },
        "id": "CPavwbFb6iju",
        "outputId": "0021663e-4394-463c-8075-b913bf41cab5"
      },
      "execution_count": 50,
      "outputs": [
        {
          "output_type": "stream",
          "name": "stderr",
          "text": [
            "/usr/local/lib/python3.10/dist-packages/ipykernel/ipkernel.py:283: DeprecationWarning: `should_run_async` will not call `transform_cell` automatically in the future. Please pass the result to `transformed_cell` argument and any exception that happen during thetransform in `preprocessing_exc_tuple` in IPython 7.17 and above.\n",
            "  and should_run_async(code)\n",
            "<ipython-input-50-e7d9131a1cb0>:2: FutureWarning: Passing 'suffixes' which cause duplicate columns {'QUAL_x', 'ALT_x', 'FILTER_x', 'REF_x', 'CHROM_x', 'ID_x'} in the result is deprecated and will raise a MergeError in a future version.\n",
            "  df_final = ft.reduce(lambda left, right: pd.merge(left, right, on='POS'), dfs)\n",
            "<ipython-input-50-e7d9131a1cb0>:2: FutureWarning: Passing 'suffixes' which cause duplicate columns {'FORMAT_x', 'GT_x', 'INFO_x'} in the result is deprecated and will raise a MergeError in a future version.\n",
            "  df_final = ft.reduce(lambda left, right: pd.merge(left, right, on='POS'), dfs)\n",
            "<ipython-input-50-e7d9131a1cb0>:2: FutureWarning: Passing 'suffixes' which cause duplicate columns {'QUAL_x', 'ALT_x', 'FILTER_x', 'REF_x', 'CHROM_x', 'ID_x'} in the result is deprecated and will raise a MergeError in a future version.\n",
            "  df_final = ft.reduce(lambda left, right: pd.merge(left, right, on='POS'), dfs)\n"
          ]
        }
      ]
    },
    {
      "cell_type": "code",
      "source": [
        "df_final2 = ft.reduce(lambda left, right: pd.merge(left, right, on='POS', how='left'), dfs)\n",
        " ### This is a left join by GT, I deleted after variants that did not appear in any of variant callers and renamed a new dataset GT_filtered_for_ML.csv\n"
      ],
      "metadata": {
        "colab": {
          "base_uri": "https://localhost:8080/"
        },
        "id": "5qGMCUP7-Ta6",
        "outputId": "65bf3948-bf04-4e9d-96a6-79d6dbfc3083"
      },
      "execution_count": 52,
      "outputs": [
        {
          "output_type": "stream",
          "name": "stderr",
          "text": [
            "/usr/local/lib/python3.10/dist-packages/ipykernel/ipkernel.py:283: DeprecationWarning: `should_run_async` will not call `transform_cell` automatically in the future. Please pass the result to `transformed_cell` argument and any exception that happen during thetransform in `preprocessing_exc_tuple` in IPython 7.17 and above.\n",
            "  and should_run_async(code)\n",
            "<ipython-input-52-352e15989957>:1: FutureWarning: Passing 'suffixes' which cause duplicate columns {'QUAL_x', 'ALT_x', 'FILTER_x', 'REF_x', 'CHROM_x', 'ID_x'} in the result is deprecated and will raise a MergeError in a future version.\n",
            "  df_final2 = ft.reduce(lambda left, right: pd.merge(left, right, on='POS', how='left'), dfs)\n",
            "<ipython-input-52-352e15989957>:1: FutureWarning: Passing 'suffixes' which cause duplicate columns {'FORMAT_x', 'GT_x', 'INFO_x'} in the result is deprecated and will raise a MergeError in a future version.\n",
            "  df_final2 = ft.reduce(lambda left, right: pd.merge(left, right, on='POS', how='left'), dfs)\n",
            "<ipython-input-52-352e15989957>:1: FutureWarning: Passing 'suffixes' which cause duplicate columns {'QUAL_x', 'ALT_x', 'FILTER_x', 'REF_x', 'CHROM_x', 'ID_x'} in the result is deprecated and will raise a MergeError in a future version.\n",
            "  df_final2 = ft.reduce(lambda left, right: pd.merge(left, right, on='POS', how='left'), dfs)\n"
          ]
        }
      ]
    },
    {
      "cell_type": "code",
      "source": [
        "df_final3 = ft.reduce(lambda left, right: pd.merge(left, right, on='POS', how='inner'), dfs)\n"
      ],
      "metadata": {
        "colab": {
          "base_uri": "https://localhost:8080/"
        },
        "id": "yj41Z_wq_mdx",
        "outputId": "2b20c91f-5494-4d58-ab1f-250bca4dea71"
      },
      "execution_count": 57,
      "outputs": [
        {
          "output_type": "stream",
          "name": "stderr",
          "text": [
            "/usr/local/lib/python3.10/dist-packages/ipykernel/ipkernel.py:283: DeprecationWarning: `should_run_async` will not call `transform_cell` automatically in the future. Please pass the result to `transformed_cell` argument and any exception that happen during thetransform in `preprocessing_exc_tuple` in IPython 7.17 and above.\n",
            "  and should_run_async(code)\n",
            "<ipython-input-57-f72bbfaceada>:1: FutureWarning: Passing 'suffixes' which cause duplicate columns {'QUAL_x', 'ALT_x', 'FILTER_x', 'REF_x', 'CHROM_x', 'ID_x'} in the result is deprecated and will raise a MergeError in a future version.\n",
            "  df_final3 = ft.reduce(lambda left, right: pd.merge(left, right, on='POS', how='inner'), dfs)\n",
            "<ipython-input-57-f72bbfaceada>:1: FutureWarning: Passing 'suffixes' which cause duplicate columns {'FORMAT_x', 'GT_x', 'INFO_x'} in the result is deprecated and will raise a MergeError in a future version.\n",
            "  df_final3 = ft.reduce(lambda left, right: pd.merge(left, right, on='POS', how='inner'), dfs)\n",
            "<ipython-input-57-f72bbfaceada>:1: FutureWarning: Passing 'suffixes' which cause duplicate columns {'QUAL_x', 'ALT_x', 'FILTER_x', 'REF_x', 'CHROM_x', 'ID_x'} in the result is deprecated and will raise a MergeError in a future version.\n",
            "  df_final3 = ft.reduce(lambda left, right: pd.merge(left, right, on='POS', how='inner'), dfs)\n"
          ]
        }
      ]
    },
    {
      "cell_type": "code",
      "source": [
        "df_final4 = ft.reduce(lambda left, right: pd.merge(left, right, on='POS', how='outer'), dfs)\n"
      ],
      "metadata": {
        "colab": {
          "base_uri": "https://localhost:8080/"
        },
        "id": "sTXt643v_6hi",
        "outputId": "946ceba7-7a84-4fbb-8502-8129528a0c1e"
      },
      "execution_count": 59,
      "outputs": [
        {
          "output_type": "stream",
          "name": "stderr",
          "text": [
            "/usr/local/lib/python3.10/dist-packages/ipykernel/ipkernel.py:283: DeprecationWarning: `should_run_async` will not call `transform_cell` automatically in the future. Please pass the result to `transformed_cell` argument and any exception that happen during thetransform in `preprocessing_exc_tuple` in IPython 7.17 and above.\n",
            "  and should_run_async(code)\n",
            "<ipython-input-59-fd083d77f689>:1: FutureWarning: Passing 'suffixes' which cause duplicate columns {'QUAL_x', 'ALT_x', 'FILTER_x', 'REF_x', 'CHROM_x', 'ID_x'} in the result is deprecated and will raise a MergeError in a future version.\n",
            "  df_final4 = ft.reduce(lambda left, right: pd.merge(left, right, on='POS', how='outer'), dfs)\n",
            "<ipython-input-59-fd083d77f689>:1: FutureWarning: Passing 'suffixes' which cause duplicate columns {'FORMAT_x', 'GT_x', 'INFO_x'} in the result is deprecated and will raise a MergeError in a future version.\n",
            "  df_final4 = ft.reduce(lambda left, right: pd.merge(left, right, on='POS', how='outer'), dfs)\n",
            "<ipython-input-59-fd083d77f689>:1: FutureWarning: Passing 'suffixes' which cause duplicate columns {'QUAL_x', 'ALT_x', 'FILTER_x', 'REF_x', 'CHROM_x', 'ID_x'} in the result is deprecated and will raise a MergeError in a future version.\n",
            "  df_final4 = ft.reduce(lambda left, right: pd.merge(left, right, on='POS', how='outer'), dfs)\n"
          ]
        }
      ]
    },
    {
      "cell_type": "code",
      "source": [
        "len(df_final4)"
      ],
      "metadata": {
        "colab": {
          "base_uri": "https://localhost:8080/"
        },
        "id": "NvQZcaeD-XXq",
        "outputId": "d39183bd-8b43-46ca-9505-c49a35e3feb4"
      },
      "execution_count": 60,
      "outputs": [
        {
          "output_type": "stream",
          "name": "stderr",
          "text": [
            "/usr/local/lib/python3.10/dist-packages/ipykernel/ipkernel.py:283: DeprecationWarning: `should_run_async` will not call `transform_cell` automatically in the future. Please pass the result to `transformed_cell` argument and any exception that happen during thetransform in `preprocessing_exc_tuple` in IPython 7.17 and above.\n",
            "  and should_run_async(code)\n"
          ]
        },
        {
          "output_type": "execute_result",
          "data": {
            "text/plain": [
              "4028"
            ]
          },
          "metadata": {},
          "execution_count": 60
        }
      ]
    },
    {
      "cell_type": "code",
      "source": [
        "GT_filtered=df_final\n",
        "GT_filtered2=df_final2"
      ],
      "metadata": {
        "colab": {
          "base_uri": "https://localhost:8080/"
        },
        "id": "6ssW9Qxn7KHb",
        "outputId": "b619de26-49fa-4415-ca75-e0b830d1fe6a"
      },
      "execution_count": 55,
      "outputs": [
        {
          "output_type": "stream",
          "name": "stderr",
          "text": [
            "/usr/local/lib/python3.10/dist-packages/ipykernel/ipkernel.py:283: DeprecationWarning: `should_run_async` will not call `transform_cell` automatically in the future. Please pass the result to `transformed_cell` argument and any exception that happen during thetransform in `preprocessing_exc_tuple` in IPython 7.17 and above.\n",
            "  and should_run_async(code)\n"
          ]
        }
      ]
    },
    {
      "cell_type": "code",
      "source": [
        "from google.colab import files\n",
        "GT_filtered.to_csv('GT_filtered.csv')\n",
        "files.download('GT_filtered.csv')"
      ],
      "metadata": {
        "colab": {
          "base_uri": "https://localhost:8080/",
          "height": 72
        },
        "id": "JIRDPbCX7csW",
        "outputId": "7d5a241d-39d1-4a48-f155-87cfec7382f7"
      },
      "execution_count": 41,
      "outputs": [
        {
          "output_type": "stream",
          "name": "stderr",
          "text": [
            "/usr/local/lib/python3.10/dist-packages/ipykernel/ipkernel.py:283: DeprecationWarning: `should_run_async` will not call `transform_cell` automatically in the future. Please pass the result to `transformed_cell` argument and any exception that happen during thetransform in `preprocessing_exc_tuple` in IPython 7.17 and above.\n",
            "  and should_run_async(code)\n"
          ]
        },
        {
          "output_type": "display_data",
          "data": {
            "text/plain": [
              "<IPython.core.display.Javascript object>"
            ],
            "application/javascript": [
              "\n",
              "    async function download(id, filename, size) {\n",
              "      if (!google.colab.kernel.accessAllowed) {\n",
              "        return;\n",
              "      }\n",
              "      const div = document.createElement('div');\n",
              "      const label = document.createElement('label');\n",
              "      label.textContent = `Downloading \"${filename}\": `;\n",
              "      div.appendChild(label);\n",
              "      const progress = document.createElement('progress');\n",
              "      progress.max = size;\n",
              "      div.appendChild(progress);\n",
              "      document.body.appendChild(div);\n",
              "\n",
              "      const buffers = [];\n",
              "      let downloaded = 0;\n",
              "\n",
              "      const channel = await google.colab.kernel.comms.open(id);\n",
              "      // Send a message to notify the kernel that we're ready.\n",
              "      channel.send({})\n",
              "\n",
              "      for await (const message of channel.messages) {\n",
              "        // Send a message to notify the kernel that we're ready.\n",
              "        channel.send({})\n",
              "        if (message.buffers) {\n",
              "          for (const buffer of message.buffers) {\n",
              "            buffers.push(buffer);\n",
              "            downloaded += buffer.byteLength;\n",
              "            progress.value = downloaded;\n",
              "          }\n",
              "        }\n",
              "      }\n",
              "      const blob = new Blob(buffers, {type: 'application/binary'});\n",
              "      const a = document.createElement('a');\n",
              "      a.href = window.URL.createObjectURL(blob);\n",
              "      a.download = filename;\n",
              "      div.appendChild(a);\n",
              "      a.click();\n",
              "      div.remove();\n",
              "    }\n",
              "  "
            ]
          },
          "metadata": {}
        },
        {
          "output_type": "display_data",
          "data": {
            "text/plain": [
              "<IPython.core.display.Javascript object>"
            ],
            "application/javascript": [
              "download(\"download_02826500-f467-46e6-b3a1-14f2a171701b\", \"GT_filtered.csv\", 1570349)"
            ]
          },
          "metadata": {}
        }
      ]
    },
    {
      "cell_type": "code",
      "source": [
        "from google.colab import files\n",
        "GT_filtered2.to_csv('GT_filtered2.csv')\n",
        "files.download('GT_filtered2.csv')"
      ],
      "metadata": {
        "colab": {
          "base_uri": "https://localhost:8080/",
          "height": 72
        },
        "id": "6FAJvuJG-kcF",
        "outputId": "43842ee1-6486-42ea-b3a8-6b9258789585"
      },
      "execution_count": 56,
      "outputs": [
        {
          "output_type": "stream",
          "name": "stderr",
          "text": [
            "/usr/local/lib/python3.10/dist-packages/ipykernel/ipkernel.py:283: DeprecationWarning: `should_run_async` will not call `transform_cell` automatically in the future. Please pass the result to `transformed_cell` argument and any exception that happen during thetransform in `preprocessing_exc_tuple` in IPython 7.17 and above.\n",
            "  and should_run_async(code)\n"
          ]
        },
        {
          "output_type": "display_data",
          "data": {
            "text/plain": [
              "<IPython.core.display.Javascript object>"
            ],
            "application/javascript": [
              "\n",
              "    async function download(id, filename, size) {\n",
              "      if (!google.colab.kernel.accessAllowed) {\n",
              "        return;\n",
              "      }\n",
              "      const div = document.createElement('div');\n",
              "      const label = document.createElement('label');\n",
              "      label.textContent = `Downloading \"${filename}\": `;\n",
              "      div.appendChild(label);\n",
              "      const progress = document.createElement('progress');\n",
              "      progress.max = size;\n",
              "      div.appendChild(progress);\n",
              "      document.body.appendChild(div);\n",
              "\n",
              "      const buffers = [];\n",
              "      let downloaded = 0;\n",
              "\n",
              "      const channel = await google.colab.kernel.comms.open(id);\n",
              "      // Send a message to notify the kernel that we're ready.\n",
              "      channel.send({})\n",
              "\n",
              "      for await (const message of channel.messages) {\n",
              "        // Send a message to notify the kernel that we're ready.\n",
              "        channel.send({})\n",
              "        if (message.buffers) {\n",
              "          for (const buffer of message.buffers) {\n",
              "            buffers.push(buffer);\n",
              "            downloaded += buffer.byteLength;\n",
              "            progress.value = downloaded;\n",
              "          }\n",
              "        }\n",
              "      }\n",
              "      const blob = new Blob(buffers, {type: 'application/binary'});\n",
              "      const a = document.createElement('a');\n",
              "      a.href = window.URL.createObjectURL(blob);\n",
              "      a.download = filename;\n",
              "      div.appendChild(a);\n",
              "      a.click();\n",
              "      div.remove();\n",
              "    }\n",
              "  "
            ]
          },
          "metadata": {}
        },
        {
          "output_type": "display_data",
          "data": {
            "text/plain": [
              "<IPython.core.display.Javascript object>"
            ],
            "application/javascript": [
              "download(\"download_72623c93-dcaf-43f4-8293-c8adcddfffaf\", \"GT_filtered2.csv\", 1614410)"
            ]
          },
          "metadata": {}
        }
      ]
    },
    {
      "cell_type": "code",
      "source": [
        "vcf_df_GT"
      ],
      "metadata": {
        "colab": {
          "base_uri": "https://localhost:8080/",
          "height": 478
        },
        "id": "0dfveyIv7ET1",
        "outputId": "c8962905-bbf1-4603-9f14-2bdc887e685b"
      },
      "execution_count": 36,
      "outputs": [
        {
          "output_type": "stream",
          "name": "stderr",
          "text": [
            "/usr/local/lib/python3.10/dist-packages/ipykernel/ipkernel.py:283: DeprecationWarning: `should_run_async` will not call `transform_cell` automatically in the future. Please pass the result to `transformed_cell` argument and any exception that happen during thetransform in `preprocessing_exc_tuple` in IPython 7.17 and above.\n",
            "  and should_run_async(code)\n"
          ]
        },
        {
          "output_type": "execute_result",
          "data": {
            "text/plain": [
              "        CHROM      POS ID REF ALT       QUAL FILTER\n",
              "0    AE017196     3915  .   C   T  54123.500   PASS\n",
              "1    AE017196    10452  .   T   G  29524.400   PASS\n",
              "2    AE017196    12060  .   C   T   1109.260   PASS\n",
              "3    AE017196    12225  .   C   T    477.204   PASS\n",
              "4    AE017196    12863  .   T   C   1248.810   PASS\n",
              "..        ...      ... ..  ..  ..        ...    ...\n",
              "827  AE017196  1257121  .   C   T   8260.820   PASS\n",
              "828  AE017196  1258432  .   A   G   1014.820   PASS\n",
              "829  AE017196  1260309  .   C   T  10111.700   PASS\n",
              "830  AE017196  1261032  .   A   T    959.379   PASS\n",
              "831  AE017196  1262019  .   G   A   4895.360   PASS\n",
              "\n",
              "[832 rows x 7 columns]"
            ],
            "text/html": [
              "\n",
              "  <div id=\"df-1841a4e5-5e08-4433-b54a-e34c20b59192\" class=\"colab-df-container\">\n",
              "    <div>\n",
              "<style scoped>\n",
              "    .dataframe tbody tr th:only-of-type {\n",
              "        vertical-align: middle;\n",
              "    }\n",
              "\n",
              "    .dataframe tbody tr th {\n",
              "        vertical-align: top;\n",
              "    }\n",
              "\n",
              "    .dataframe thead th {\n",
              "        text-align: right;\n",
              "    }\n",
              "</style>\n",
              "<table border=\"1\" class=\"dataframe\">\n",
              "  <thead>\n",
              "    <tr style=\"text-align: right;\">\n",
              "      <th></th>\n",
              "      <th>CHROM</th>\n",
              "      <th>POS</th>\n",
              "      <th>ID</th>\n",
              "      <th>REF</th>\n",
              "      <th>ALT</th>\n",
              "      <th>QUAL</th>\n",
              "      <th>FILTER</th>\n",
              "    </tr>\n",
              "  </thead>\n",
              "  <tbody>\n",
              "    <tr>\n",
              "      <th>0</th>\n",
              "      <td>AE017196</td>\n",
              "      <td>3915</td>\n",
              "      <td>.</td>\n",
              "      <td>C</td>\n",
              "      <td>T</td>\n",
              "      <td>54123.500</td>\n",
              "      <td>PASS</td>\n",
              "    </tr>\n",
              "    <tr>\n",
              "      <th>1</th>\n",
              "      <td>AE017196</td>\n",
              "      <td>10452</td>\n",
              "      <td>.</td>\n",
              "      <td>T</td>\n",
              "      <td>G</td>\n",
              "      <td>29524.400</td>\n",
              "      <td>PASS</td>\n",
              "    </tr>\n",
              "    <tr>\n",
              "      <th>2</th>\n",
              "      <td>AE017196</td>\n",
              "      <td>12060</td>\n",
              "      <td>.</td>\n",
              "      <td>C</td>\n",
              "      <td>T</td>\n",
              "      <td>1109.260</td>\n",
              "      <td>PASS</td>\n",
              "    </tr>\n",
              "    <tr>\n",
              "      <th>3</th>\n",
              "      <td>AE017196</td>\n",
              "      <td>12225</td>\n",
              "      <td>.</td>\n",
              "      <td>C</td>\n",
              "      <td>T</td>\n",
              "      <td>477.204</td>\n",
              "      <td>PASS</td>\n",
              "    </tr>\n",
              "    <tr>\n",
              "      <th>4</th>\n",
              "      <td>AE017196</td>\n",
              "      <td>12863</td>\n",
              "      <td>.</td>\n",
              "      <td>T</td>\n",
              "      <td>C</td>\n",
              "      <td>1248.810</td>\n",
              "      <td>PASS</td>\n",
              "    </tr>\n",
              "    <tr>\n",
              "      <th>...</th>\n",
              "      <td>...</td>\n",
              "      <td>...</td>\n",
              "      <td>...</td>\n",
              "      <td>...</td>\n",
              "      <td>...</td>\n",
              "      <td>...</td>\n",
              "      <td>...</td>\n",
              "    </tr>\n",
              "    <tr>\n",
              "      <th>827</th>\n",
              "      <td>AE017196</td>\n",
              "      <td>1257121</td>\n",
              "      <td>.</td>\n",
              "      <td>C</td>\n",
              "      <td>T</td>\n",
              "      <td>8260.820</td>\n",
              "      <td>PASS</td>\n",
              "    </tr>\n",
              "    <tr>\n",
              "      <th>828</th>\n",
              "      <td>AE017196</td>\n",
              "      <td>1258432</td>\n",
              "      <td>.</td>\n",
              "      <td>A</td>\n",
              "      <td>G</td>\n",
              "      <td>1014.820</td>\n",
              "      <td>PASS</td>\n",
              "    </tr>\n",
              "    <tr>\n",
              "      <th>829</th>\n",
              "      <td>AE017196</td>\n",
              "      <td>1260309</td>\n",
              "      <td>.</td>\n",
              "      <td>C</td>\n",
              "      <td>T</td>\n",
              "      <td>10111.700</td>\n",
              "      <td>PASS</td>\n",
              "    </tr>\n",
              "    <tr>\n",
              "      <th>830</th>\n",
              "      <td>AE017196</td>\n",
              "      <td>1261032</td>\n",
              "      <td>.</td>\n",
              "      <td>A</td>\n",
              "      <td>T</td>\n",
              "      <td>959.379</td>\n",
              "      <td>PASS</td>\n",
              "    </tr>\n",
              "    <tr>\n",
              "      <th>831</th>\n",
              "      <td>AE017196</td>\n",
              "      <td>1262019</td>\n",
              "      <td>.</td>\n",
              "      <td>G</td>\n",
              "      <td>A</td>\n",
              "      <td>4895.360</td>\n",
              "      <td>PASS</td>\n",
              "    </tr>\n",
              "  </tbody>\n",
              "</table>\n",
              "<p>832 rows × 7 columns</p>\n",
              "</div>\n",
              "    <div class=\"colab-df-buttons\">\n",
              "\n",
              "  <div class=\"colab-df-container\">\n",
              "    <button class=\"colab-df-convert\" onclick=\"convertToInteractive('df-1841a4e5-5e08-4433-b54a-e34c20b59192')\"\n",
              "            title=\"Convert this dataframe to an interactive table.\"\n",
              "            style=\"display:none;\">\n",
              "\n",
              "  <svg xmlns=\"http://www.w3.org/2000/svg\" height=\"24px\" viewBox=\"0 -960 960 960\">\n",
              "    <path d=\"M120-120v-720h720v720H120Zm60-500h600v-160H180v160Zm220 220h160v-160H400v160Zm0 220h160v-160H400v160ZM180-400h160v-160H180v160Zm440 0h160v-160H620v160ZM180-180h160v-160H180v160Zm440 0h160v-160H620v160Z\"/>\n",
              "  </svg>\n",
              "    </button>\n",
              "\n",
              "  <style>\n",
              "    .colab-df-container {\n",
              "      display:flex;\n",
              "      gap: 12px;\n",
              "    }\n",
              "\n",
              "    .colab-df-convert {\n",
              "      background-color: #E8F0FE;\n",
              "      border: none;\n",
              "      border-radius: 50%;\n",
              "      cursor: pointer;\n",
              "      display: none;\n",
              "      fill: #1967D2;\n",
              "      height: 32px;\n",
              "      padding: 0 0 0 0;\n",
              "      width: 32px;\n",
              "    }\n",
              "\n",
              "    .colab-df-convert:hover {\n",
              "      background-color: #E2EBFA;\n",
              "      box-shadow: 0px 1px 2px rgba(60, 64, 67, 0.3), 0px 1px 3px 1px rgba(60, 64, 67, 0.15);\n",
              "      fill: #174EA6;\n",
              "    }\n",
              "\n",
              "    .colab-df-buttons div {\n",
              "      margin-bottom: 4px;\n",
              "    }\n",
              "\n",
              "    [theme=dark] .colab-df-convert {\n",
              "      background-color: #3B4455;\n",
              "      fill: #D2E3FC;\n",
              "    }\n",
              "\n",
              "    [theme=dark] .colab-df-convert:hover {\n",
              "      background-color: #434B5C;\n",
              "      box-shadow: 0px 1px 3px 1px rgba(0, 0, 0, 0.15);\n",
              "      filter: drop-shadow(0px 1px 2px rgba(0, 0, 0, 0.3));\n",
              "      fill: #FFFFFF;\n",
              "    }\n",
              "  </style>\n",
              "\n",
              "    <script>\n",
              "      const buttonEl =\n",
              "        document.querySelector('#df-1841a4e5-5e08-4433-b54a-e34c20b59192 button.colab-df-convert');\n",
              "      buttonEl.style.display =\n",
              "        google.colab.kernel.accessAllowed ? 'block' : 'none';\n",
              "\n",
              "      async function convertToInteractive(key) {\n",
              "        const element = document.querySelector('#df-1841a4e5-5e08-4433-b54a-e34c20b59192');\n",
              "        const dataTable =\n",
              "          await google.colab.kernel.invokeFunction('convertToInteractive',\n",
              "                                                    [key], {});\n",
              "        if (!dataTable) return;\n",
              "\n",
              "        const docLinkHtml = 'Like what you see? Visit the ' +\n",
              "          '<a target=\"_blank\" href=https://colab.research.google.com/notebooks/data_table.ipynb>data table notebook</a>'\n",
              "          + ' to learn more about interactive tables.';\n",
              "        element.innerHTML = '';\n",
              "        dataTable['output_type'] = 'display_data';\n",
              "        await google.colab.output.renderOutput(dataTable, element);\n",
              "        const docLink = document.createElement('div');\n",
              "        docLink.innerHTML = docLinkHtml;\n",
              "        element.appendChild(docLink);\n",
              "      }\n",
              "    </script>\n",
              "  </div>\n",
              "\n",
              "\n",
              "<div id=\"df-59eca666-3f24-45bb-92fd-65afc295c5c5\">\n",
              "  <button class=\"colab-df-quickchart\" onclick=\"quickchart('df-59eca666-3f24-45bb-92fd-65afc295c5c5')\"\n",
              "            title=\"Suggest charts.\"\n",
              "            style=\"display:none;\">\n",
              "\n",
              "<svg xmlns=\"http://www.w3.org/2000/svg\" height=\"24px\"viewBox=\"0 0 24 24\"\n",
              "     width=\"24px\">\n",
              "    <g>\n",
              "        <path d=\"M19 3H5c-1.1 0-2 .9-2 2v14c0 1.1.9 2 2 2h14c1.1 0 2-.9 2-2V5c0-1.1-.9-2-2-2zM9 17H7v-7h2v7zm4 0h-2V7h2v10zm4 0h-2v-4h2v4z\"/>\n",
              "    </g>\n",
              "</svg>\n",
              "  </button>\n",
              "\n",
              "<style>\n",
              "  .colab-df-quickchart {\n",
              "      --bg-color: #E8F0FE;\n",
              "      --fill-color: #1967D2;\n",
              "      --hover-bg-color: #E2EBFA;\n",
              "      --hover-fill-color: #174EA6;\n",
              "      --disabled-fill-color: #AAA;\n",
              "      --disabled-bg-color: #DDD;\n",
              "  }\n",
              "\n",
              "  [theme=dark] .colab-df-quickchart {\n",
              "      --bg-color: #3B4455;\n",
              "      --fill-color: #D2E3FC;\n",
              "      --hover-bg-color: #434B5C;\n",
              "      --hover-fill-color: #FFFFFF;\n",
              "      --disabled-bg-color: #3B4455;\n",
              "      --disabled-fill-color: #666;\n",
              "  }\n",
              "\n",
              "  .colab-df-quickchart {\n",
              "    background-color: var(--bg-color);\n",
              "    border: none;\n",
              "    border-radius: 50%;\n",
              "    cursor: pointer;\n",
              "    display: none;\n",
              "    fill: var(--fill-color);\n",
              "    height: 32px;\n",
              "    padding: 0;\n",
              "    width: 32px;\n",
              "  }\n",
              "\n",
              "  .colab-df-quickchart:hover {\n",
              "    background-color: var(--hover-bg-color);\n",
              "    box-shadow: 0 1px 2px rgba(60, 64, 67, 0.3), 0 1px 3px 1px rgba(60, 64, 67, 0.15);\n",
              "    fill: var(--button-hover-fill-color);\n",
              "  }\n",
              "\n",
              "  .colab-df-quickchart-complete:disabled,\n",
              "  .colab-df-quickchart-complete:disabled:hover {\n",
              "    background-color: var(--disabled-bg-color);\n",
              "    fill: var(--disabled-fill-color);\n",
              "    box-shadow: none;\n",
              "  }\n",
              "\n",
              "  .colab-df-spinner {\n",
              "    border: 2px solid var(--fill-color);\n",
              "    border-color: transparent;\n",
              "    border-bottom-color: var(--fill-color);\n",
              "    animation:\n",
              "      spin 1s steps(1) infinite;\n",
              "  }\n",
              "\n",
              "  @keyframes spin {\n",
              "    0% {\n",
              "      border-color: transparent;\n",
              "      border-bottom-color: var(--fill-color);\n",
              "      border-left-color: var(--fill-color);\n",
              "    }\n",
              "    20% {\n",
              "      border-color: transparent;\n",
              "      border-left-color: var(--fill-color);\n",
              "      border-top-color: var(--fill-color);\n",
              "    }\n",
              "    30% {\n",
              "      border-color: transparent;\n",
              "      border-left-color: var(--fill-color);\n",
              "      border-top-color: var(--fill-color);\n",
              "      border-right-color: var(--fill-color);\n",
              "    }\n",
              "    40% {\n",
              "      border-color: transparent;\n",
              "      border-right-color: var(--fill-color);\n",
              "      border-top-color: var(--fill-color);\n",
              "    }\n",
              "    60% {\n",
              "      border-color: transparent;\n",
              "      border-right-color: var(--fill-color);\n",
              "    }\n",
              "    80% {\n",
              "      border-color: transparent;\n",
              "      border-right-color: var(--fill-color);\n",
              "      border-bottom-color: var(--fill-color);\n",
              "    }\n",
              "    90% {\n",
              "      border-color: transparent;\n",
              "      border-bottom-color: var(--fill-color);\n",
              "    }\n",
              "  }\n",
              "</style>\n",
              "\n",
              "  <script>\n",
              "    async function quickchart(key) {\n",
              "      const quickchartButtonEl =\n",
              "        document.querySelector('#' + key + ' button');\n",
              "      quickchartButtonEl.disabled = true;  // To prevent multiple clicks.\n",
              "      quickchartButtonEl.classList.add('colab-df-spinner');\n",
              "      try {\n",
              "        const charts = await google.colab.kernel.invokeFunction(\n",
              "            'suggestCharts', [key], {});\n",
              "      } catch (error) {\n",
              "        console.error('Error during call to suggestCharts:', error);\n",
              "      }\n",
              "      quickchartButtonEl.classList.remove('colab-df-spinner');\n",
              "      quickchartButtonEl.classList.add('colab-df-quickchart-complete');\n",
              "    }\n",
              "    (() => {\n",
              "      let quickchartButtonEl =\n",
              "        document.querySelector('#df-59eca666-3f24-45bb-92fd-65afc295c5c5 button');\n",
              "      quickchartButtonEl.style.display =\n",
              "        google.colab.kernel.accessAllowed ? 'block' : 'none';\n",
              "    })();\n",
              "  </script>\n",
              "</div>\n",
              "    </div>\n",
              "  </div>\n"
            ]
          },
          "metadata": {},
          "execution_count": 36
        }
      ]
    },
    {
      "cell_type": "markdown",
      "source": [
        "### Calculate metrics on filtered GT"
      ],
      "metadata": {
        "id": "W_LSsCWI8UY6"
      }
    },
    {
      "cell_type": "code",
      "source": [
        "Freebayes100f_CF=confusion_matrix(Freebayes100, filtered_GT_ML, genome_size=1267843) #1267843 genome size\n",
        "Freebayes100f_CF"
      ],
      "metadata": {
        "colab": {
          "base_uri": "https://localhost:8080/"
        },
        "id": "MAhM467O7-Jz",
        "outputId": "52868955-f9a4-44d8-c2c0-6b54b1d64603"
      },
      "execution_count": 75,
      "outputs": [
        {
          "output_type": "stream",
          "name": "stderr",
          "text": [
            "/usr/local/lib/python3.10/dist-packages/ipykernel/ipkernel.py:283: DeprecationWarning: `should_run_async` will not call `transform_cell` automatically in the future. Please pass the result to `transformed_cell` argument and any exception that happen during thetransform in `preprocessing_exc_tuple` in IPython 7.17 and above.\n",
            "  and should_run_async(code)\n"
          ]
        },
        {
          "output_type": "execute_result",
          "data": {
            "text/plain": [
              "array([[6.800000e+02, 7.900000e+01],\n",
              "       [2.200000e+01, 1.267137e+06]])"
            ]
          },
          "metadata": {},
          "execution_count": 75
        }
      ]
    },
    {
      "cell_type": "code",
      "source": [
        "Mutect100f_CF=confusion_matrix(Mutect100, filtered_GT_ML, genome_size=1267843) #1267843 genome size\n",
        "Mutect100f_CF"
      ],
      "metadata": {
        "colab": {
          "base_uri": "https://localhost:8080/"
        },
        "id": "h4OuvaDc8aqg",
        "outputId": "23723206-8188-45ca-a845-6fe6f858a5ce"
      },
      "execution_count": 77,
      "outputs": [
        {
          "output_type": "stream",
          "name": "stderr",
          "text": [
            "/usr/local/lib/python3.10/dist-packages/ipykernel/ipkernel.py:283: DeprecationWarning: `should_run_async` will not call `transform_cell` automatically in the future. Please pass the result to `transformed_cell` argument and any exception that happen during thetransform in `preprocessing_exc_tuple` in IPython 7.17 and above.\n",
            "  and should_run_async(code)\n"
          ]
        },
        {
          "output_type": "execute_result",
          "data": {
            "text/plain": [
              "array([[6.910000e+02, 2.590000e+02],\n",
              "       [1.100000e+01, 1.267137e+06]])"
            ]
          },
          "metadata": {},
          "execution_count": 77
        }
      ]
    },
    {
      "cell_type": "markdown",
      "source": [
        "### Plot confusion matrix"
      ],
      "metadata": {
        "id": "t6abj-SnOeU2"
      }
    },
    {
      "cell_type": "code",
      "source": [
        "plot=plot_custom_confusion_matrix(Mutect100_CF, title=\"Mutect2 100% variants\")\n",
        "plot"
      ],
      "metadata": {
        "colab": {
          "base_uri": "https://localhost:8080/",
          "height": 561
        },
        "id": "cSOXjCdAOef0",
        "outputId": "99b236b7-37d8-4ede-f089-e03b534aeec3"
      },
      "execution_count": 47,
      "outputs": [
        {
          "output_type": "stream",
          "name": "stderr",
          "text": [
            "/usr/local/lib/python3.10/dist-packages/ipykernel/ipkernel.py:283: DeprecationWarning: `should_run_async` will not call `transform_cell` automatically in the future. Please pass the result to `transformed_cell` argument and any exception that happen during thetransform in `preprocessing_exc_tuple` in IPython 7.17 and above.\n",
            "  and should_run_async(code)\n"
          ]
        },
        {
          "output_type": "display_data",
          "data": {
            "text/plain": [
              "<Figure size 640x480 with 1 Axes>"
            ],
            "image/png": "[encoded data removed]"
          },
          "metadata": {}
        }
      ]
    },
    {
      "cell_type": "markdown",
      "source": [
        "### Metrics for Strelka"
      ],
      "metadata": {
        "id": "UzIb7Vvb3bX5"
      }
    },
    {
      "cell_type": "code",
      "source": [
        "Strelka100_CF=confusion_matrix(Strelka100, vcf_df_GT, genome_size=1267843)\n",
        "Strelka50_CF=confusion_matrix(Strelka50, vcf_df_GT, genome_size=1267843)\n",
        "Strelka40_CF=confusion_matrix(Strelka40, vcf_df_GT, genome_size=1267843)\n",
        "Strelka30_CF=confusion_matrix(Strelka30, vcf_df_GT, genome_size=1267843)\n",
        "Strelka20_CF=confusion_matrix(Strelka20, vcf_df_GT, genome_size=1267843)\n",
        "Strelka10_CF=confusion_matrix(Strelka10, vcf_df_GT, genome_size=1267843)\n",
        "Strelka5_CF=confusion_matrix(Strelka5, vcf_df_GT, genome_size=1267843)\n",
        "Strelka4_CF=confusion_matrix(Strelka4, vcf_df_GT, genome_size=1267843)\n",
        "Strelka3_CF=confusion_matrix(Strelka3, vcf_df_GT, genome_size=1267843)\n",
        "Strelka2_CF=confusion_matrix(Strelka2, vcf_df_GT, genome_size=1267843)\n",
        "Strelka1_CF=confusion_matrix(Strelka1, vcf_df_GT, genome_size=1267843)\n",
        "Strelka05_CF=confusion_matrix(Strelka05, vcf_df_GT, genome_size=1267843)\n",
        "Strelka025_CF=confusion_matrix(Strelka025, vcf_df_GT, genome_size=1267843)\n"
      ],
      "metadata": {
        "colab": {
          "base_uri": "https://localhost:8080/"
        },
        "id": "U3DbTracJOoQ",
        "outputId": "3c7f6d1f-20aa-4418-e8a1-e2a1d07d848d"
      },
      "execution_count": 108,
      "outputs": [
        {
          "output_type": "stream",
          "name": "stderr",
          "text": [
            "/usr/local/lib/python3.10/dist-packages/ipykernel/ipkernel.py:283: DeprecationWarning: `should_run_async` will not call `transform_cell` automatically in the future. Please pass the result to `transformed_cell` argument and any exception that happen during thetransform in `preprocessing_exc_tuple` in IPython 7.17 and above.\n",
            "  and should_run_async(code)\n"
          ]
        }
      ]
    },
    {
      "cell_type": "code",
      "source": [],
      "metadata": {
        "colab": {
          "base_uri": "https://localhost:8080/"
        },
        "id": "gujQ9UA8KMU1",
        "outputId": "f4534805-2371-494c-928e-c99a7a584bbf"
      },
      "execution_count": 109,
      "outputs": [
        {
          "output_type": "stream",
          "name": "stderr",
          "text": [
            "/usr/local/lib/python3.10/dist-packages/ipykernel/ipkernel.py:283: DeprecationWarning: `should_run_async` will not call `transform_cell` automatically in the future. Please pass the result to `transformed_cell` argument and any exception that happen during thetransform in `preprocessing_exc_tuple` in IPython 7.17 and above.\n",
            "  and should_run_async(code)\n"
          ]
        }
      ]
    },
    {
      "cell_type": "code",
      "source": [
        "Mutect100_CF=confusion_matrix(Mutect100, vcf_df_GT, genome_size=1267843)\n",
        "Mutect50_CF=confusion_matrix(Mutect50, vcf_df_GT, genome_size=1267843)\n",
        "Mutect40_CF=confusion_matrix(Mutect40, vcf_df_GT, genome_size=1267843)\n",
        "Mutect30_CF=confusion_matrix(Mutect30, vcf_df_GT, genome_size=1267843)\n",
        "Mutect20_CF=confusion_matrix(Mutect20, vcf_df_GT, genome_size=1267843)\n",
        "Mutect10_CF=confusion_matrix(Mutect10, vcf_df_GT, genome_size=1267843)\n",
        "Mutect5_CF=confusion_matrix(Mutect5, vcf_df_GT, genome_size=1267843)\n",
        "Mutect4_CF=confusion_matrix(Mutect4, vcf_df_GT, genome_size=1267843)\n",
        "Mutect3_CF=confusion_matrix(Mutect3, vcf_df_GT, genome_size=1267843)\n",
        "Mutect2_CF=confusion_matrix(Mutect2, vcf_df_GT, genome_size=1267843)\n",
        "Mutect1_CF=confusion_matrix(Mutect1, vcf_df_GT, genome_size=1267843)\n",
        "Mutect05_CF=confusion_matrix(Mutect05, vcf_df_GT, genome_size=1267843)\n",
        "Mutect025_CF=confusion_matrix(Mutect025, vcf_df_GT, genome_size=1267843)\n",
        "\n"
      ],
      "metadata": {
        "colab": {
          "base_uri": "https://localhost:8080/"
        },
        "id": "aDx3p0TQEGSd",
        "outputId": "345d354e-0793-480c-c044-907f367ccf78"
      },
      "execution_count": 81,
      "outputs": [
        {
          "output_type": "stream",
          "name": "stderr",
          "text": [
            "/usr/local/lib/python3.10/dist-packages/ipykernel/ipkernel.py:283: DeprecationWarning: `should_run_async` will not call `transform_cell` automatically in the future. Please pass the result to `transformed_cell` argument and any exception that happen during thetransform in `preprocessing_exc_tuple` in IPython 7.17 and above.\n",
            "  and should_run_async(code)\n"
          ]
        }
      ]
    },
    {
      "cell_type": "code",
      "source": [],
      "metadata": {
        "id": "QEtXHt-UEGcT"
      },
      "execution_count": null,
      "outputs": []
    },
    {
      "cell_type": "markdown",
      "source": [
        "### Metrics for Mutect2"
      ],
      "metadata": {
        "id": "_6udjSPYEXZm"
      }
    },
    {
      "cell_type": "code",
      "source": [
        "pr=metrics(Mutect025_CF, \"precision\")\n",
        "pr"
      ],
      "metadata": {
        "colab": {
          "base_uri": "https://localhost:8080/"
        },
        "id": "lNkfe9uIEXh9",
        "outputId": "1bd5b967-f7ec-46a1-d7ed-527ff938d795"
      },
      "execution_count": 106,
      "outputs": [
        {
          "output_type": "stream",
          "name": "stderr",
          "text": [
            "/usr/local/lib/python3.10/dist-packages/ipykernel/ipkernel.py:283: DeprecationWarning: `should_run_async` will not call `transform_cell` automatically in the future. Please pass the result to `transformed_cell` argument and any exception that happen during thetransform in `preprocessing_exc_tuple` in IPython 7.17 and above.\n",
            "  and should_run_async(code)\n"
          ]
        },
        {
          "output_type": "execute_result",
          "data": {
            "text/plain": [
              "0.04838709677419355"
            ]
          },
          "metadata": {},
          "execution_count": 106
        }
      ]
    },
    {
      "cell_type": "code",
      "source": [
        "rec=metrics(Mutect025_CF, \"recall\")\n",
        "rec"
      ],
      "metadata": {
        "colab": {
          "base_uri": "https://localhost:8080/"
        },
        "id": "bIOD5B99nJsT",
        "outputId": "e5caff51-2af5-4763-db48-8b2327c41824"
      },
      "execution_count": 107,
      "outputs": [
        {
          "output_type": "stream",
          "name": "stderr",
          "text": [
            "/usr/local/lib/python3.10/dist-packages/ipykernel/ipkernel.py:283: DeprecationWarning: `should_run_async` will not call `transform_cell` automatically in the future. Please pass the result to `transformed_cell` argument and any exception that happen during thetransform in `preprocessing_exc_tuple` in IPython 7.17 and above.\n",
            "  and should_run_async(code)\n"
          ]
        },
        {
          "output_type": "execute_result",
          "data": {
            "text/plain": [
              "0.007220216606498195"
            ]
          },
          "metadata": {},
          "execution_count": 107
        }
      ]
    },
    {
      "cell_type": "markdown",
      "source": [
        "### Metrics for Strelka"
      ],
      "metadata": {
        "id": "L6j0pfOaKRqa"
      }
    },
    {
      "cell_type": "code",
      "source": [
        "Strelka = parse_vcf_mutect('variants.vcf', info_cols=None, nrows=20000)\n"
      ],
      "metadata": {
        "colab": {
          "base_uri": "https://localhost:8080/"
        },
        "id": "Vhc5aF7mKQ8G",
        "outputId": "e368c424-1cf8-46da-a9e5-0c1f8e7b2b45"
      },
      "execution_count": 174,
      "outputs": [
        {
          "output_type": "stream",
          "name": "stderr",
          "text": [
            "/usr/local/lib/python3.10/dist-packages/ipykernel/ipkernel.py:283: DeprecationWarning: `should_run_async` will not call `transform_cell` automatically in the future. Please pass the result to `transformed_cell` argument and any exception that happen during thetransform in `preprocessing_exc_tuple` in IPython 7.17 and above.\n",
            "  and should_run_async(code)\n"
          ]
        }
      ]
    },
    {
      "cell_type": "code",
      "source": [
        "CF=confusion_matrix(Strelka, vcf_df_GT, genome_size=1267843)\n"
      ],
      "metadata": {
        "colab": {
          "base_uri": "https://localhost:8080/"
        },
        "id": "yqC3VOTHKVFH",
        "outputId": "64f34695-0c3b-49cb-da97-0c3329ebf9c5"
      },
      "execution_count": 175,
      "outputs": [
        {
          "output_type": "stream",
          "name": "stderr",
          "text": [
            "/usr/local/lib/python3.10/dist-packages/ipykernel/ipkernel.py:283: DeprecationWarning: `should_run_async` will not call `transform_cell` automatically in the future. Please pass the result to `transformed_cell` argument and any exception that happen during thetransform in `preprocessing_exc_tuple` in IPython 7.17 and above.\n",
            "  and should_run_async(code)\n"
          ]
        }
      ]
    },
    {
      "cell_type": "code",
      "source": [
        "pr=metrics(CF, \"precision\")\n",
        "pr"
      ],
      "metadata": {
        "colab": {
          "base_uri": "https://localhost:8080/"
        },
        "id": "RpC9l7x4KXwS",
        "outputId": "15e39712-5260-4ef0-faa1-76ad486885dd"
      },
      "execution_count": 176,
      "outputs": [
        {
          "output_type": "stream",
          "name": "stderr",
          "text": [
            "/usr/local/lib/python3.10/dist-packages/ipykernel/ipkernel.py:283: DeprecationWarning: `should_run_async` will not call `transform_cell` automatically in the future. Please pass the result to `transformed_cell` argument and any exception that happen during thetransform in `preprocessing_exc_tuple` in IPython 7.17 and above.\n",
            "  and should_run_async(code)\n"
          ]
        },
        {
          "output_type": "execute_result",
          "data": {
            "text/plain": [
              "0.0033"
            ]
          },
          "metadata": {},
          "execution_count": 176
        }
      ]
    },
    {
      "cell_type": "code",
      "source": [
        "rec=metrics(CF, \"recall\")\n",
        "rec"
      ],
      "metadata": {
        "colab": {
          "base_uri": "https://localhost:8080/"
        },
        "id": "acHo6_nE-oPN",
        "outputId": "a6febbc3-7df4-4f19-d7ca-a8714ebda75a"
      },
      "execution_count": 177,
      "outputs": [
        {
          "output_type": "stream",
          "name": "stderr",
          "text": [
            "/usr/local/lib/python3.10/dist-packages/ipykernel/ipkernel.py:283: DeprecationWarning: `should_run_async` will not call `transform_cell` automatically in the future. Please pass the result to `transformed_cell` argument and any exception that happen during thetransform in `preprocessing_exc_tuple` in IPython 7.17 and above.\n",
            "  and should_run_async(code)\n"
          ]
        },
        {
          "output_type": "execute_result",
          "data": {
            "text/plain": [
              "0.07942238267148015"
            ]
          },
          "metadata": {},
          "execution_count": 177
        }
      ]
    },
    {
      "cell_type": "markdown",
      "source": [
        "Iterate vcf files from folder"
      ],
      "metadata": {
        "id": "hrZV-ITxv8by"
      }
    },
    {
      "cell_type": "code",
      "source": [
        "import os\n",
        "\n",
        "\n",
        "folder_path = '/content/drive/MyDrive/VCF_files/freebayes/same_freq/'\n",
        "\n",
        "data_list = []  # Create an empty list to hold the data\n",
        "\n",
        "# Iterate through each file in the folder\n",
        "for filename in os.listdir(folder_path):\n",
        "    if filename.endswith('.vcf'):  # Check if the file is a VCF file\n",
        "        file_path = os.path.join(folder_path, filename)\n",
        "        with open(file_path, 'r') as file:\n",
        "            vcf_reader = parse_vcf(file, info_cols= info_cols_min, nrows=2000)\n",
        "            TPR,FPR = TPR_FPR(vcf_reader, gt_dataset=vcf_df_GT, genome_size=2000)\n",
        "            data_list.append((TPR,FPR))\n",
        "sorted_list = sorted(data_list, key=lambda x: x[1])\n",
        "\n",
        "            #for record in vcf_reader:\n",
        "           #     data_list.append(record)  # Add each record to the list\n",
        "\n",
        "print(sorted_list)  # Print the list of data\n"
      ],
      "metadata": {
        "colab": {
          "base_uri": "https://localhost:8080/"
        },
        "id": "0RdC5DICv80p",
        "outputId": "b2da7f2a-cb51-4156-efd3-eb6a5f71b019"
      },
      "execution_count": null,
      "outputs": [
        {
          "output_type": "stream",
          "name": "stdout",
          "text": [
            "[(0.9975308641975309, 0.033112582781456956), (0.9975609756097561, 0.03391232423490488), (0.997737556561086, 0.03550784475639967), (0.9978858350951374, 0.04730831973898858), (0.9985315712187959, 0.06335204490777867), (0.9980353634577603, 0.09316770186335403), (0.9897959183673469, 0.14054451802796172), (0.9973404255319149, 0.1916955017301038), (0.9972677595628415, 0.22955145118733508), (0.9974554707379135, 0.27812113720642767), (0.9975369458128078, 0.5328), (0.9166666666666666, 0.6300285080772886), (0.5, 0.6311967161351437)]\n"
          ]
        }
      ]
    },
    {
      "cell_type": "code",
      "source": [
        "sorted_list"
      ],
      "metadata": {
        "colab": {
          "base_uri": "https://localhost:8080/"
        },
        "id": "Cw0tkeX72agh",
        "outputId": "be32e712-fced-439a-b8a0-2b0b5a949da4"
      },
      "execution_count": null,
      "outputs": [
        {
          "output_type": "execute_result",
          "data": {
            "text/plain": [
              "[(0.9975308641975309, 0.033112582781456956),\n",
              " (0.9975609756097561, 0.03391232423490488),\n",
              " (0.997737556561086, 0.03550784475639967),\n",
              " (0.9978858350951374, 0.04730831973898858),\n",
              " (0.9985315712187959, 0.06335204490777867),\n",
              " (0.9980353634577603, 0.09316770186335403),\n",
              " (0.9897959183673469, 0.14054451802796172),\n",
              " (0.9973404255319149, 0.1916955017301038),\n",
              " (0.9972677595628415, 0.22955145118733508),\n",
              " (0.9974554707379135, 0.27812113720642767),\n",
              " (0.9975369458128078, 0.5328),\n",
              " (0.9166666666666666, 0.6300285080772886),\n",
              " (0.5, 0.6311967161351437)]"
            ]
          },
          "metadata": {},
          "execution_count": 138
        }
      ]
    },
    {
      "cell_type": "markdown",
      "source": [],
      "metadata": {
        "id": "zk0trciO2ZAL"
      }
    },
    {
      "cell_type": "code",
      "source": [
        "from google.colab import drive\n",
        "drive.mount('/content/drive')"
      ],
      "metadata": {
        "colab": {
          "base_uri": "https://localhost:8080/"
        },
        "id": "o3Q0DoiYwtei",
        "outputId": "df106f75-41ae-4c00-8842-aebe127c4fe0"
      },
      "execution_count": null,
      "outputs": [
        {
          "output_type": "stream",
          "name": "stdout",
          "text": [
            "Mounted at /content/drive\n"
          ]
        }
      ]
    },
    {
      "cell_type": "markdown",
      "source": [
        "### ROC curves\n",
        "An ROC curve (receiver operating characteristic curve) is a graph showing the performance of a classification model at all classification thresholds. This curve plots two parameters: True Positive Rate. False Positive Rate"
      ],
      "metadata": {
        "id": "4V0Q-WUS6x8y"
      }
    },
    {
      "cell_type": "code",
      "source": [
        "def TPR_FPR(dataset, gt_dataset, genome_size): #pass dataframe from variant caller and GT dataframe\n",
        "    d_P=dataset[\"POS\"].values\n",
        "    g_P=gt_dataset[\"POS\"].values\n",
        "    matrix=np.zeros((2,2)) # matrix of 2 by 2\n",
        "    matrix[1,1]=genome_size - len(gt_dataset) # True Negatives\n",
        "    for i in d_P:\n",
        "        if i in g_P:\n",
        "            matrix[0,0]+=1 #True Positives\n",
        "        elif i not in g_P:\n",
        "            matrix[0,1]+=1 #False Positives\n",
        "    for k in g_P:\n",
        "      if k not in d_P:\n",
        "        matrix[1,0]=+1 #False Negatives\n",
        "    TPR=matrix[0,0]/(matrix[0,0]+matrix[1,0]) #True positive rate\n",
        "    FPR=matrix[0,1]/(matrix[1,1]+matrix[0,1]) #False positive rate\n",
        "    return TPR, FPR"
      ],
      "metadata": {
        "id": "lGqgogqw62yS"
      },
      "execution_count": null,
      "outputs": []
    },
    {
      "cell_type": "code",
      "source": [
        "TPR,FPR =TPR_FPR(vcf_df_data,vcf_df_GT,genome_size=1300000)\n",
        "TPR, FPR\n"
      ],
      "metadata": {
        "colab": {
          "base_uri": "https://localhost:8080/"
        },
        "id": "yVaAgQHCPChO",
        "outputId": "d57c8328-a151-4b4c-a195-bb7fe558a660"
      },
      "execution_count": null,
      "outputs": [
        {
          "output_type": "execute_result",
          "data": {
            "text/plain": [
              "(0.9897959183673469, 0.0001469955570400482)"
            ]
          },
          "metadata": {},
          "execution_count": 88
        }
      ]
    },
    {
      "cell_type": "code",
      "source": [
        "TPR = [x[0] for x in data_list]\n",
        "TPR"
      ],
      "metadata": {
        "colab": {
          "base_uri": "https://localhost:8080/"
        },
        "id": "5aliTgwOEcLr",
        "outputId": "ebd5cfea-1993-4b93-d436-c4d127c21ae5"
      },
      "execution_count": null,
      "outputs": [
        {
          "output_type": "execute_result",
          "data": {
            "text/plain": [
              "[0.9897959183673469,\n",
              " 0.9975308641975309,\n",
              " 0.9973404255319149,\n",
              " 0.9974554707379135,\n",
              " 0.9972677595628415,\n",
              " 0.997737556561086,\n",
              " 0.9978858350951374,\n",
              " 0.9985315712187959,\n",
              " 0.9980353634577603,\n",
              " 0.9975369458128078,\n",
              " 0.9166666666666666,\n",
              " 0.5,\n",
              " 0.9975609756097561]"
            ]
          },
          "metadata": {},
          "execution_count": 97
        }
      ]
    },
    {
      "cell_type": "code",
      "source": [
        "from sklearn.metrics import roc_curve, auc"
      ],
      "metadata": {
        "id": "eIuoWpm4VhBH"
      },
      "execution_count": null,
      "outputs": []
    },
    {
      "cell_type": "markdown",
      "source": [],
      "metadata": {
        "id": "ErygE4z8VT7n"
      }
    },
    {
      "cell_type": "code",
      "source": [
        "def plot_roc_curve(tuple_list):\n",
        "    tpr = [x[0] for x in tuple_list]\n",
        "    fpr = [x[1] for x in tuple_list]\n",
        "    roc_auc = auc(fpr, tpr)\n",
        "    # Plot the ROC curve\n",
        "    plt.plot(fpr, tpr, label='ROC curve (area = %0.2f)' % roc_auc)\n",
        "    plt.plot([0, 1], [0, 1], 'k--')\n",
        "    plt.xlim([0.0, 1.0])\n",
        "    plt.ylim([0.0, 1.05])\n",
        "    plt.xlabel('False Positive Rate')\n",
        "    plt.ylabel('True Positive Rate')\n",
        "    plt.title('Receiver Operating Characteristic Curve')\n",
        "    plt.legend(loc=\"lower right\")\n",
        "    plt.show()"
      ],
      "metadata": {
        "id": "ftN7qKSvVKiO"
      },
      "execution_count": null,
      "outputs": []
    },
    {
      "cell_type": "markdown",
      "source": [],
      "metadata": {
        "id": "SK6jveyHGFLt"
      }
    },
    {
      "cell_type": "code",
      "source": [
        "my_list = [(0.2, 0), (0.4, 0), (0.5, 0.2), (0.6, 0.2), (0.8, 0.25), (0.85, 0.4), (0.95, 0.6), (1.0, 0.8)]\n",
        "my_list"
      ],
      "metadata": {
        "colab": {
          "base_uri": "https://localhost:8080/"
        },
        "id": "bJILOwhGGFc8",
        "outputId": "5ddb86f1-c8ca-4162-c6a9-fee49a57e34d"
      },
      "execution_count": null,
      "outputs": [
        {
          "output_type": "execute_result",
          "data": {
            "text/plain": [
              "[(0.2, 0),\n",
              " (0.4, 0),\n",
              " (0.5, 0.2),\n",
              " (0.6, 0.2),\n",
              " (0.8, 0.25),\n",
              " (0.85, 0.4),\n",
              " (0.95, 0.6),\n",
              " (1.0, 0.8)]"
            ]
          },
          "metadata": {},
          "execution_count": 116
        }
      ]
    },
    {
      "cell_type": "code",
      "source": [
        "plot=plot_roc_curve(sorted_list)"
      ],
      "metadata": {
        "colab": {
          "base_uri": "https://localhost:8080/",
          "height": 295
        },
        "id": "GRbN-OSZEF7M",
        "outputId": "7596ebb3-7c65-4b4e-8940-24c73f1bbaee"
      },
      "execution_count": null,
      "outputs": [
        {
          "output_type": "display_data",
          "data": {
            "text/plain": [
              "<Figure size 432x288 with 1 Axes>"
            ],
            "image/png": "[encoded data removed]"
          },
          "metadata": {
            "needs_background": "light"
          }
        }
      ]
    },
    {
      "cell_type": "markdown",
      "source": [],
      "metadata": {
        "id": "2ZW_Qu0jS7xP"
      }
    },
    {
      "cell_type": "code",
      "source": [
        "  # Plot the ROC curve\n",
        "\n",
        "  plt.plot(FPR, TPR, label='ROC curve (area = %0.2f)')\n",
        "  plt.plot([0, 1], [0, 1], 'k--')\n",
        "  plt.xlim([0.0, 1.0])\n",
        "  plt.ylim([0.0, 1.05])\n",
        "  plt.xlabel('False Positive Rate')\n",
        "  plt.ylabel('True Positive Rate')\n",
        "  plt.title('Receiver Operating Characteristic Curve')\n",
        "  plt.legend(loc=\"lower right\")\n",
        "  plt.show()"
      ],
      "metadata": {
        "colab": {
          "base_uri": "https://localhost:8080/",
          "height": 295
        },
        "id": "szgzK9mUS67A",
        "outputId": "d53c5cc9-9b4e-4ae3-9c4b-e819a33d2cb7"
      },
      "execution_count": null,
      "outputs": [
        {
          "output_type": "display_data",
          "data": {
            "text/plain": [
              "<Figure size 432x288 with 1 Axes>"
            ],
            "image/png": "[encoded data removed]"
          },
          "metadata": {
            "needs_background": "light"
          }
        }
      ]
    },
    {
      "cell_type": "code",
      "source": [
        "from sklearn.metrics import roc_curve, auc\n",
        "\n",
        "def compute_roc_curve(y_true, y_pred):\n",
        "    # Compute the ROC curve and AUC for the given true labels and predictions\n",
        "    fpr, tpr, thresholds = roc_curve(y_true, y_pred)\n",
        "    roc_auc = auc(fpr, tpr)\n",
        "\n",
        "    # Plot the ROC curve\n",
        "    plt.plot(fpr, tpr, label='ROC curve (area = %0.2f)' % roc_auc)\n",
        "    plt.plot([0, 1], [0, 1], 'k--')\n",
        "    plt.xlim([0.0, 1.0])\n",
        "    plt.ylim([0.0, 1.05])\n",
        "    plt.xlabel('False Positive Rate')\n",
        "    plt.ylabel('True Positive Rate')\n",
        "    plt.title('Receiver Operating Characteristic Curve')\n",
        "    plt.legend(loc=\"lower right\")\n",
        "    plt.show()"
      ],
      "metadata": {
        "id": "Kf_SfgtsVIhJ"
      },
      "execution_count": null,
      "outputs": []
    },
    {
      "cell_type": "markdown",
      "source": [
        "# **Part II - training data with different ML models**"
      ],
      "metadata": {
        "id": "qCOD7AWop3Jf"
      }
    },
    {
      "cell_type": "markdown",
      "source": [
        "\n",
        "\n",
        "*  Chosen threshold for calling all mutations will be 0.5% frequency\n",
        "*  Call at 0.5% with Freebayes, GATKp100,\n",
        "\n"
      ],
      "metadata": {
        "id": "C3M1gUWrTzTn"
      }
    },
    {
      "cell_type": "markdown",
      "source": [
        "### Generate a dataframe for training classifiers"
      ],
      "metadata": {
        "id": "IrAW3MgfdO89"
      }
    },
    {
      "cell_type": "markdown",
      "source": [],
      "metadata": {
        "id": "7HqRn_D8TyXH"
      }
    },
    {
      "cell_type": "code",
      "source": [
        "dataset_small=match_groudtruth(vcf_df_data,vcf_df_GT)\n",
        "dataset_small"
      ],
      "metadata": {
        "colab": {
          "base_uri": "https://localhost:8080/",
          "height": 455
        },
        "id": "YereIVGzUCUD",
        "outputId": "2fbdc029-66ab-4c63-a9fd-4a4667efa0bf"
      },
      "execution_count": null,
      "outputs": [
        {
          "output_type": "execute_result",
          "data": {
            "text/plain": [
              "                 QUAL  AO   DP    QA    QR  RO  RPL  SAF  SAR  SRF  SRR  \\\n",
              "POS                                                                       \n",
              "3915     6.590090e+02  83  143  2760  2001  59   51   36   47   37   22   \n",
              "10452    1.704090e-09  65  133  2205  2317  68   33   30   35   39   29   \n",
              "12060    1.222290e-13  61  142  2087  2692  81   27   31   30   41   40   \n",
              "13072    3.108420e+01  67  129  2279  2120  62   39   32   35   24   38   \n",
              "15742    1.163890e+01  63  126  2143  2126  63   33   35   28   31   32   \n",
              "...               ...  ..  ...   ...   ...  ..  ...  ...  ...  ...  ...   \n",
              "1257121  8.622340e+01  67  123  2319  1857  55   33   39   28   23   32   \n",
              "1258432  9.341950e-14  51  119  1782  2309  68   26   24   27   42   26   \n",
              "1260309  2.007810e-09  55  110  1746  1870  55   25   34   21   20   35   \n",
              "1261032  4.433910e-04  52  108  1757  1815  56   21   26   26   31   25   \n",
              "1262019  2.293350e+02  64  121  2138  1865  55   35   38   26   29   26   \n",
              "\n",
              "         GROUND  \n",
              "POS              \n",
              "3915          1  \n",
              "10452         0  \n",
              "12060         0  \n",
              "13072         1  \n",
              "15742         1  \n",
              "...         ...  \n",
              "1257121       1  \n",
              "1258432       0  \n",
              "1260309       1  \n",
              "1261032       0  \n",
              "1262019       1  \n",
              "\n",
              "[820 rows x 12 columns]"
            ],
            "text/html": [
              "\n",
              "  <div id=\"df-05c7913f-825a-4d16-ac21-498feb1a60cb\">\n",
              "    <div class=\"colab-df-container\">\n",
              "      <div>\n",
              "<style scoped>\n",
              "    .dataframe tbody tr th:only-of-type {\n",
              "        vertical-align: middle;\n",
              "    }\n",
              "\n",
              "    .dataframe tbody tr th {\n",
              "        vertical-align: top;\n",
              "    }\n",
              "\n",
              "    .dataframe thead th {\n",
              "        text-align: right;\n",
              "    }\n",
              "</style>\n",
              "<table border=\"1\" class=\"dataframe\">\n",
              "  <thead>\n",
              "    <tr style=\"text-align: right;\">\n",
              "      <th></th>\n",
              "      <th>QUAL</th>\n",
              "      <th>AO</th>\n",
              "      <th>DP</th>\n",
              "      <th>QA</th>\n",
              "      <th>QR</th>\n",
              "      <th>RO</th>\n",
              "      <th>RPL</th>\n",
              "      <th>SAF</th>\n",
              "      <th>SAR</th>\n",
              "      <th>SRF</th>\n",
              "      <th>SRR</th>\n",
              "      <th>GROUND</th>\n",
              "    </tr>\n",
              "    <tr>\n",
              "      <th>POS</th>\n",
              "      <th></th>\n",
              "      <th></th>\n",
              "      <th></th>\n",
              "      <th></th>\n",
              "      <th></th>\n",
              "      <th></th>\n",
              "      <th></th>\n",
              "      <th></th>\n",
              "      <th></th>\n",
              "      <th></th>\n",
              "      <th></th>\n",
              "      <th></th>\n",
              "    </tr>\n",
              "  </thead>\n",
              "  <tbody>\n",
              "    <tr>\n",
              "      <th>3915</th>\n",
              "      <td>6.590090e+02</td>\n",
              "      <td>83</td>\n",
              "      <td>143</td>\n",
              "      <td>2760</td>\n",
              "      <td>2001</td>\n",
              "      <td>59</td>\n",
              "      <td>51</td>\n",
              "      <td>36</td>\n",
              "      <td>47</td>\n",
              "      <td>37</td>\n",
              "      <td>22</td>\n",
              "      <td>1</td>\n",
              "    </tr>\n",
              "    <tr>\n",
              "      <th>10452</th>\n",
              "      <td>1.704090e-09</td>\n",
              "      <td>65</td>\n",
              "      <td>133</td>\n",
              "      <td>2205</td>\n",
              "      <td>2317</td>\n",
              "      <td>68</td>\n",
              "      <td>33</td>\n",
              "      <td>30</td>\n",
              "      <td>35</td>\n",
              "      <td>39</td>\n",
              "      <td>29</td>\n",
              "      <td>0</td>\n",
              "    </tr>\n",
              "    <tr>\n",
              "      <th>12060</th>\n",
              "      <td>1.222290e-13</td>\n",
              "      <td>61</td>\n",
              "      <td>142</td>\n",
              "      <td>2087</td>\n",
              "      <td>2692</td>\n",
              "      <td>81</td>\n",
              "      <td>27</td>\n",
              "      <td>31</td>\n",
              "      <td>30</td>\n",
              "      <td>41</td>\n",
              "      <td>40</td>\n",
              "      <td>0</td>\n",
              "    </tr>\n",
              "    <tr>\n",
              "      <th>13072</th>\n",
              "      <td>3.108420e+01</td>\n",
              "      <td>67</td>\n",
              "      <td>129</td>\n",
              "      <td>2279</td>\n",
              "      <td>2120</td>\n",
              "      <td>62</td>\n",
              "      <td>39</td>\n",
              "      <td>32</td>\n",
              "      <td>35</td>\n",
              "      <td>24</td>\n",
              "      <td>38</td>\n",
              "      <td>1</td>\n",
              "    </tr>\n",
              "    <tr>\n",
              "      <th>15742</th>\n",
              "      <td>1.163890e+01</td>\n",
              "      <td>63</td>\n",
              "      <td>126</td>\n",
              "      <td>2143</td>\n",
              "      <td>2126</td>\n",
              "      <td>63</td>\n",
              "      <td>33</td>\n",
              "      <td>35</td>\n",
              "      <td>28</td>\n",
              "      <td>31</td>\n",
              "      <td>32</td>\n",
              "      <td>1</td>\n",
              "    </tr>\n",
              "    <tr>\n",
              "      <th>...</th>\n",
              "      <td>...</td>\n",
              "      <td>...</td>\n",
              "      <td>...</td>\n",
              "      <td>...</td>\n",
              "      <td>...</td>\n",
              "      <td>...</td>\n",
              "      <td>...</td>\n",
              "      <td>...</td>\n",
              "      <td>...</td>\n",
              "      <td>...</td>\n",
              "      <td>...</td>\n",
              "      <td>...</td>\n",
              "    </tr>\n",
              "    <tr>\n",
              "      <th>1257121</th>\n",
              "      <td>8.622340e+01</td>\n",
              "      <td>67</td>\n",
              "      <td>123</td>\n",
              "      <td>2319</td>\n",
              "      <td>1857</td>\n",
              "      <td>55</td>\n",
              "      <td>33</td>\n",
              "      <td>39</td>\n",
              "      <td>28</td>\n",
              "      <td>23</td>\n",
              "      <td>32</td>\n",
              "      <td>1</td>\n",
              "    </tr>\n",
              "    <tr>\n",
              "      <th>1258432</th>\n",
              "      <td>9.341950e-14</td>\n",
              "      <td>51</td>\n",
              "      <td>119</td>\n",
              "      <td>1782</td>\n",
              "      <td>2309</td>\n",
              "      <td>68</td>\n",
              "      <td>26</td>\n",
              "      <td>24</td>\n",
              "      <td>27</td>\n",
              "      <td>42</td>\n",
              "      <td>26</td>\n",
              "      <td>0</td>\n",
              "    </tr>\n",
              "    <tr>\n",
              "      <th>1260309</th>\n",
              "      <td>2.007810e-09</td>\n",
              "      <td>55</td>\n",
              "      <td>110</td>\n",
              "      <td>1746</td>\n",
              "      <td>1870</td>\n",
              "      <td>55</td>\n",
              "      <td>25</td>\n",
              "      <td>34</td>\n",
              "      <td>21</td>\n",
              "      <td>20</td>\n",
              "      <td>35</td>\n",
              "      <td>1</td>\n",
              "    </tr>\n",
              "    <tr>\n",
              "      <th>1261032</th>\n",
              "      <td>4.433910e-04</td>\n",
              "      <td>52</td>\n",
              "      <td>108</td>\n",
              "      <td>1757</td>\n",
              "      <td>1815</td>\n",
              "      <td>56</td>\n",
              "      <td>21</td>\n",
              "      <td>26</td>\n",
              "      <td>26</td>\n",
              "      <td>31</td>\n",
              "      <td>25</td>\n",
              "      <td>0</td>\n",
              "    </tr>\n",
              "    <tr>\n",
              "      <th>1262019</th>\n",
              "      <td>2.293350e+02</td>\n",
              "      <td>64</td>\n",
              "      <td>121</td>\n",
              "      <td>2138</td>\n",
              "      <td>1865</td>\n",
              "      <td>55</td>\n",
              "      <td>35</td>\n",
              "      <td>38</td>\n",
              "      <td>26</td>\n",
              "      <td>29</td>\n",
              "      <td>26</td>\n",
              "      <td>1</td>\n",
              "    </tr>\n",
              "  </tbody>\n",
              "</table>\n",
              "<p>820 rows × 12 columns</p>\n",
              "</div>\n",
              "      <button class=\"colab-df-convert\" onclick=\"convertToInteractive('df-05c7913f-825a-4d16-ac21-498feb1a60cb')\"\n",
              "              title=\"Convert this dataframe to an interactive table.\"\n",
              "              style=\"display:none;\">\n",
              "        \n",
              "  <svg xmlns=\"http://www.w3.org/2000/svg\" height=\"24px\"viewBox=\"0 0 24 24\"\n",
              "       width=\"24px\">\n",
              "    <path d=\"M0 0h24v24H0V0z\" fill=\"none\"/>\n",
              "    <path d=\"M18.56 5.44l.94 2.06.94-2.06 2.06-.94-2.06-.94-.94-2.06-.94 2.06-2.06.94zm-11 1L8.5 8.5l.94-2.06 2.06-.94-2.06-.94L8.5 2.5l-.94 2.06-2.06.94zm10 10l.94 2.06.94-2.06 2.06-.94-2.06-.94-.94-2.06-.94 2.06-2.06.94z\"/><path d=\"M17.41 7.96l-1.37-1.37c-.4-.4-.92-.59-1.43-.59-.52 0-1.04.2-1.43.59L10.3 9.45l-7.72 7.72c-.78.78-.78 2.05 0 2.83L4 21.41c.39.39.9.59 1.41.59.51 0 1.02-.2 1.41-.59l7.78-7.78 2.81-2.81c.8-.78.8-2.07 0-2.86zM5.41 20L4 18.59l7.72-7.72 1.47 1.35L5.41 20z\"/>\n",
              "  </svg>\n",
              "      </button>\n",
              "      \n",
              "  <style>\n",
              "    .colab-df-container {\n",
              "      display:flex;\n",
              "      flex-wrap:wrap;\n",
              "      gap: 12px;\n",
              "    }\n",
              "\n",
              "    .colab-df-convert {\n",
              "      background-color: #E8F0FE;\n",
              "      border: none;\n",
              "      border-radius: 50%;\n",
              "      cursor: pointer;\n",
              "      display: none;\n",
              "      fill: #1967D2;\n",
              "      height: 32px;\n",
              "      padding: 0 0 0 0;\n",
              "      width: 32px;\n",
              "    }\n",
              "\n",
              "    .colab-df-convert:hover {\n",
              "      background-color: #E2EBFA;\n",
              "      box-shadow: 0px 1px 2px rgba(60, 64, 67, 0.3), 0px 1px 3px 1px rgba(60, 64, 67, 0.15);\n",
              "      fill: #174EA6;\n",
              "    }\n",
              "\n",
              "    [theme=dark] .colab-df-convert {\n",
              "      background-color: #3B4455;\n",
              "      fill: #D2E3FC;\n",
              "    }\n",
              "\n",
              "    [theme=dark] .colab-df-convert:hover {\n",
              "      background-color: #434B5C;\n",
              "      box-shadow: 0px 1px 3px 1px rgba(0, 0, 0, 0.15);\n",
              "      filter: drop-shadow(0px 1px 2px rgba(0, 0, 0, 0.3));\n",
              "      fill: #FFFFFF;\n",
              "    }\n",
              "  </style>\n",
              "\n",
              "      <script>\n",
              "        const buttonEl =\n",
              "          document.querySelector('#df-05c7913f-825a-4d16-ac21-498feb1a60cb button.colab-df-convert');\n",
              "        buttonEl.style.display =\n",
              "          google.colab.kernel.accessAllowed ? 'block' : 'none';\n",
              "\n",
              "        async function convertToInteractive(key) {\n",
              "          const element = document.querySelector('#df-05c7913f-825a-4d16-ac21-498feb1a60cb');\n",
              "          const dataTable =\n",
              "            await google.colab.kernel.invokeFunction('convertToInteractive',\n",
              "                                                     [key], {});\n",
              "          if (!dataTable) return;\n",
              "\n",
              "          const docLinkHtml = 'Like what you see? Visit the ' +\n",
              "            '<a target=\"_blank\" href=https://colab.research.google.com/notebooks/data_table.ipynb>data table notebook</a>'\n",
              "            + ' to learn more about interactive tables.';\n",
              "          element.innerHTML = '';\n",
              "          dataTable['output_type'] = 'display_data';\n",
              "          await google.colab.output.renderOutput(dataTable, element);\n",
              "          const docLink = document.createElement('div');\n",
              "          docLink.innerHTML = docLinkHtml;\n",
              "          element.appendChild(docLink);\n",
              "        }\n",
              "      </script>\n",
              "    </div>\n",
              "  </div>\n",
              "  "
            ]
          },
          "metadata": {},
          "execution_count": 24
        }
      ]
    },
    {
      "cell_type": "markdown",
      "source": [
        "### Data preparation"
      ],
      "metadata": {
        "id": "K8KHRxS_dL9s"
      }
    },
    {
      "cell_type": "code",
      "metadata": {
        "id": "vm69JqSWvG6f"
      },
      "source": [
        "#shuffle data\n",
        "dataset_small=shuffle(dataset_small)\n",
        "#standardize features\n",
        "Ys = dataset_small.iloc[:,-1:]\n",
        "Xs = dataset_small.iloc[:,0:11]\n",
        "means = np.mean(Xs, axis = 0)\n",
        "stdvs = np.std(Xs,axis = 0)\n",
        "Xs = (Xs-means)/stdvs\n",
        "#Use stratified sampling and split data into training and testing\n",
        "X_r, X_t, Y_r, Y_t = train_test_split(Xs, Ys, test_size = 0.33, stratify = Ys)\n"
      ],
      "execution_count": null,
      "outputs": []
    },
    {
      "cell_type": "markdown",
      "source": [
        "## **Logistic regression classifier**\n",
        "\n",
        "---\n",
        "\n"
      ],
      "metadata": {
        "id": "5Hpc5-c3fo71"
      }
    },
    {
      "cell_type": "markdown",
      "source": [
        "### Train simple logistic clasifier"
      ],
      "metadata": {
        "id": "J9ty6MNGtW4I"
      }
    },
    {
      "cell_type": "markdown",
      "source": [
        "Perform Grid search for finding best hyperparameter C for regularization. L2 regularization refers to the penalty which is equivalent to the square of the magnitude of coefficients, whereas L1 regularization introduces the penalty (shrinkage quantity) equivalent to the sum of the absolute value of coefficients. L1 regularization introduces sparsity in the dataset, and it can use to perform feature selection by eliminating the features that are not important. Lasso or L1 regularization shrinks the coefficients of not important features to 0, therefore those features can be removed from the training sample."
      ],
      "metadata": {
        "id": "GpabVEP_O794"
      }
    },
    {
      "cell_type": "code",
      "source": [
        "param = {'C': [0.001,0.005,0.01, 0.05, 0.1, 0.5, 1, 5, 50, 100], 'solver': ['saga', 'liblinear']}\n",
        "lr_model = LogisticRegression(penalty='l1', solver='liblinear') # check with penalty L1 maybe better\n",
        "cv = RepeatedStratifiedKFold(n_splits=10, n_repeats=3, random_state=1)\n",
        "gs_model = GridSearchCV(estimator=lr_model, param_grid=param, n_jobs=-1, cv=cv, scoring='accuracy',error_score=0)\n",
        "\n",
        "gs_model.fit(X_r, Y_r.values.ravel())\n",
        "# Train a LR model with best parameters\n",
        "model = LogisticRegression(**gs_model.best_params_ )\n",
        "model.fit(X_r, Y_r.values.ravel())"
      ],
      "metadata": {
        "colab": {
          "base_uri": "https://localhost:8080/"
        },
        "id": "rWWexaaSK4vh",
        "outputId": "1a369204-a1fe-4931-9a25-a4eeadd06b6b"
      },
      "execution_count": null,
      "outputs": [
        {
          "output_type": "stream",
          "name": "stderr",
          "text": [
            "/usr/local/lib/python3.8/dist-packages/sklearn/linear_model/_sag.py:352: ConvergenceWarning: The max_iter was reached which means the coef_ did not converge\n",
            "  warnings.warn(\n",
            "/usr/local/lib/python3.8/dist-packages/sklearn/linear_model/_sag.py:352: ConvergenceWarning: The max_iter was reached which means the coef_ did not converge\n",
            "  warnings.warn(\n"
          ]
        },
        {
          "output_type": "execute_result",
          "data": {
            "text/plain": [
              "LogisticRegression(C=50, solver='saga')"
            ]
          },
          "metadata": {},
          "execution_count": 26
        }
      ]
    },
    {
      "cell_type": "code",
      "source": [
        "print(\"Best: %f using %s\" % (gs_model.best_score_, gs_model.best_params_))\n",
        "means = gs_model.cv_results_['mean_test_score']\n",
        "stds = gs_model.cv_results_['std_test_score']\n",
        "params = gs_model.cv_results_['params']\n",
        "for mean, stdev, param in zip(means, stds, params):\n",
        "    print(\"%f (%f) with: %r\" % (mean, stdev, param))"
      ],
      "metadata": {
        "colab": {
          "base_uri": "https://localhost:8080/"
        },
        "id": "QOS0Sv7seJRo",
        "outputId": "82b9c656-e80d-4cb5-8fc8-42e6bdeb0b2a"
      },
      "execution_count": null,
      "outputs": [
        {
          "output_type": "stream",
          "name": "stdout",
          "text": [
            "Best: 0.969024 using {'C': 50, 'solver': 'saga'}\n",
            "0.555556 (0.008571) with: {'C': 0.001, 'solver': 'saga'}\n",
            "0.555556 (0.008571) with: {'C': 0.001, 'solver': 'liblinear'}\n",
            "0.555556 (0.008571) with: {'C': 0.005, 'solver': 'saga'}\n",
            "0.555556 (0.008571) with: {'C': 0.005, 'solver': 'liblinear'}\n",
            "0.784478 (0.050287) with: {'C': 0.01, 'solver': 'saga'}\n",
            "0.868227 (0.040732) with: {'C': 0.01, 'solver': 'liblinear'}\n",
            "0.914972 (0.036622) with: {'C': 0.05, 'solver': 'saga'}\n",
            "0.917396 (0.037349) with: {'C': 0.05, 'solver': 'liblinear'}\n",
            "0.938036 (0.031204) with: {'C': 0.1, 'solver': 'saga'}\n",
            "0.933187 (0.034768) with: {'C': 0.1, 'solver': 'liblinear'}\n",
            "0.964759 (0.025436) with: {'C': 0.5, 'solver': 'saga'}\n",
            "0.966566 (0.027189) with: {'C': 0.5, 'solver': 'liblinear'}\n",
            "0.968406 (0.026722) with: {'C': 1, 'solver': 'saga'}\n",
            "0.967778 (0.027031) with: {'C': 1, 'solver': 'liblinear'}\n",
            "0.967800 (0.027027) with: {'C': 5, 'solver': 'saga'}\n",
            "0.967194 (0.023786) with: {'C': 5, 'solver': 'liblinear'}\n",
            "0.969024 (0.025039) with: {'C': 50, 'solver': 'saga'}\n",
            "0.965993 (0.020922) with: {'C': 50, 'solver': 'liblinear'}\n",
            "0.969024 (0.025039) with: {'C': 100, 'solver': 'saga'}\n",
            "0.966004 (0.020871) with: {'C': 100, 'solver': 'liblinear'}\n"
          ]
        }
      ]
    },
    {
      "cell_type": "markdown",
      "source": [
        "Compute the coefficients of the Logistic Regression model which will return the weight vector of the logistic regression dividing plane for all of the features that were trained. Redundant features could be identified as they have coefficient with 0."
      ],
      "metadata": {
        "id": "9LL-OpXYQUcb"
      }
    },
    {
      "cell_type": "code",
      "source": [
        "coef=model.coef_[0]\n",
        "coef"
      ],
      "metadata": {
        "colab": {
          "base_uri": "https://localhost:8080/"
        },
        "id": "Rb4ePCQ9OHlR",
        "outputId": "894948ed-8dbb-4cdc-f37a-9e9ff76d017f"
      },
      "execution_count": null,
      "outputs": [
        {
          "output_type": "execute_result",
          "data": {
            "text/plain": [
              "array([ 0.14420193,  2.6043807 , -0.41178657,  1.94688341, -1.33228281,\n",
              "       -2.40971166,  0.12406609,  2.41247887,  1.9951255 , -1.84342424,\n",
              "       -1.91487265])"
            ]
          },
          "metadata": {},
          "execution_count": 28
        }
      ]
    },
    {
      "cell_type": "markdown",
      "source": [
        "Check which features were redundant"
      ],
      "metadata": {
        "id": "0Xa7QYNjRC3X"
      }
    },
    {
      "cell_type": "code",
      "source": [
        "print(\"Redundant features are: \", list(pd.Series(Xs.columns)[list(coef==0)]))"
      ],
      "metadata": {
        "colab": {
          "base_uri": "https://localhost:8080/"
        },
        "id": "oyX5YWFPRHZo",
        "outputId": "0c071bee-f18b-424e-d902-53bee28f4a29"
      },
      "execution_count": null,
      "outputs": [
        {
          "output_type": "stream",
          "name": "stdout",
          "text": [
            "Redundant features are:  []\n"
          ]
        }
      ]
    },
    {
      "cell_type": "markdown",
      "source": [
        "Export features that are not redundant for training"
      ],
      "metadata": {
        "id": "7D4grohESHpf"
      }
    },
    {
      "cell_type": "code",
      "source": [
        "f_features = pd.Series(Xs.columns)[list(coef!=0)]\n",
        "X_r = X_r[f_features]\n",
        "X_t = X_t[f_features]\n"
      ],
      "metadata": {
        "id": "T3jkVwqUSH0H"
      },
      "execution_count": null,
      "outputs": []
    },
    {
      "cell_type": "markdown",
      "source": [
        "Train with l2 regularization?"
      ],
      "metadata": {
        "id": "hSgM8vPSTqtz"
      }
    }
  ]
}